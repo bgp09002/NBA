{
 "cells": [
  {
   "cell_type": "code",
   "execution_count": 69,
   "metadata": {},
   "outputs": [],
   "source": [
    "import pandas as pd\n",
    "import numpy as np\n",
    "from sklearn.linear_model import LinearRegression, LogisticRegression, RidgeCV, LassoCV\n",
    "from sklearn.metrics import r2_score\n",
    "from sklearn.model_selection import train_test_split\n",
    "from sklearn.preprocessing import StandardScaler\n",
    "import matplotlib.pyplot as plt\n",
    "import seaborn as sns\n",
    "import matplotlib\n",
    "\n",
    "plt.style.use('fivethirtyeight')"
   ]
  },
  {
   "cell_type": "code",
   "execution_count": 13,
   "metadata": {},
   "outputs": [],
   "source": [
    "teams_master = pd.read_csv('../Data/Teams/teams_master.csv')"
   ]
  },
  {
   "cell_type": "code",
   "execution_count": 14,
   "metadata": {},
   "outputs": [],
   "source": [
    "pd.set_option('display.max_columns', None)"
   ]
  },
  {
   "cell_type": "code",
   "execution_count": 15,
   "metadata": {
    "scrolled": false
   },
   "outputs": [
    {
     "data": {
      "text/html": [
       "<div>\n",
       "<style scoped>\n",
       "    .dataframe tbody tr th:only-of-type {\n",
       "        vertical-align: middle;\n",
       "    }\n",
       "\n",
       "    .dataframe tbody tr th {\n",
       "        vertical-align: top;\n",
       "    }\n",
       "\n",
       "    .dataframe thead th {\n",
       "        text-align: right;\n",
       "    }\n",
       "</style>\n",
       "<table border=\"1\" class=\"dataframe\">\n",
       "  <thead>\n",
       "    <tr style=\"text-align: right;\">\n",
       "      <th></th>\n",
       "      <th>Unnamed: 0</th>\n",
       "      <th>TEAM_ID</th>\n",
       "      <th>TEAM_CITY</th>\n",
       "      <th>TEAM_NAME</th>\n",
       "      <th>YEAR</th>\n",
       "      <th>GP</th>\n",
       "      <th>WINS</th>\n",
       "      <th>LOSSES</th>\n",
       "      <th>WIN_PCT</th>\n",
       "      <th>CONF_RANK</th>\n",
       "      <th>DIV_RANK</th>\n",
       "      <th>PO_WINS</th>\n",
       "      <th>PO_LOSSES</th>\n",
       "      <th>CONF_COUNT</th>\n",
       "      <th>DIV_COUNT</th>\n",
       "      <th>NBA_FINALS_APPEARANCE</th>\n",
       "      <th>FGM</th>\n",
       "      <th>FGA</th>\n",
       "      <th>FG_PCT</th>\n",
       "      <th>FG3M</th>\n",
       "      <th>FG3A</th>\n",
       "      <th>FG3_PCT</th>\n",
       "      <th>FTM</th>\n",
       "      <th>FTA</th>\n",
       "      <th>FT_PCT</th>\n",
       "      <th>OREB</th>\n",
       "      <th>DREB</th>\n",
       "      <th>REB</th>\n",
       "      <th>AST</th>\n",
       "      <th>PF</th>\n",
       "      <th>STL</th>\n",
       "      <th>TOV</th>\n",
       "      <th>BLK</th>\n",
       "      <th>PTS</th>\n",
       "      <th>PTS_RANK</th>\n",
       "      <th>FG2M</th>\n",
       "      <th>FG2A</th>\n",
       "      <th>FG2_PCT</th>\n",
       "      <th>FG3A/FGA</th>\n",
       "      <th>FG2A/FGA</th>\n",
       "      <th>FTA/FGA</th>\n",
       "      <th>FG3A/FG2A</th>\n",
       "      <th>FG2M_PER_GP</th>\n",
       "      <th>FG3M_PER_GP</th>\n",
       "      <th>FG2A_PER_GP</th>\n",
       "      <th>FG3A_PER_GP</th>\n",
       "      <th>PTS_PER_GP</th>\n",
       "      <th>3PT_PER_PTS</th>\n",
       "      <th>2PT_PER_PTS</th>\n",
       "      <th>PLAYOFFS</th>\n",
       "      <th>CHAMPS</th>\n",
       "      <th>FINALS_LOSS</th>\n",
       "      <th>FINALS_APPEARANCE</th>\n",
       "    </tr>\n",
       "  </thead>\n",
       "  <tbody>\n",
       "    <tr>\n",
       "      <td>0</td>\n",
       "      <td>34</td>\n",
       "      <td>1610612755</td>\n",
       "      <td>Philadelphia</td>\n",
       "      <td>76ers</td>\n",
       "      <td>1983-01-01</td>\n",
       "      <td>82</td>\n",
       "      <td>52</td>\n",
       "      <td>30</td>\n",
       "      <td>0.634</td>\n",
       "      <td>3</td>\n",
       "      <td>2</td>\n",
       "      <td>2</td>\n",
       "      <td>3</td>\n",
       "      <td>11.0</td>\n",
       "      <td>5</td>\n",
       "      <td>NaN</td>\n",
       "      <td>3384</td>\n",
       "      <td>6833</td>\n",
       "      <td>0.495</td>\n",
       "      <td>29</td>\n",
       "      <td>107</td>\n",
       "      <td>0.271</td>\n",
       "      <td>2041</td>\n",
       "      <td>2706</td>\n",
       "      <td>0.754</td>\n",
       "      <td>1181</td>\n",
       "      <td>2382</td>\n",
       "      <td>3563</td>\n",
       "      <td>2032</td>\n",
       "      <td>2040</td>\n",
       "      <td>807</td>\n",
       "      <td>1628</td>\n",
       "      <td>653</td>\n",
       "      <td>8838</td>\n",
       "      <td>16</td>\n",
       "      <td>3355</td>\n",
       "      <td>6726</td>\n",
       "      <td>0.498811</td>\n",
       "      <td>0.015659</td>\n",
       "      <td>0.984341</td>\n",
       "      <td>0.396019</td>\n",
       "      <td>0.015908</td>\n",
       "      <td>40.914634</td>\n",
       "      <td>0.353659</td>\n",
       "      <td>82.024390</td>\n",
       "      <td>1.304878</td>\n",
       "      <td>107.780488</td>\n",
       "      <td>0.009844</td>\n",
       "      <td>0.759222</td>\n",
       "      <td>1</td>\n",
       "      <td>0</td>\n",
       "      <td>0</td>\n",
       "      <td>0</td>\n",
       "    </tr>\n",
       "    <tr>\n",
       "      <td>1</td>\n",
       "      <td>35</td>\n",
       "      <td>1610612755</td>\n",
       "      <td>Philadelphia</td>\n",
       "      <td>76ers</td>\n",
       "      <td>1984-01-01</td>\n",
       "      <td>82</td>\n",
       "      <td>58</td>\n",
       "      <td>24</td>\n",
       "      <td>0.707</td>\n",
       "      <td>3</td>\n",
       "      <td>2</td>\n",
       "      <td>8</td>\n",
       "      <td>5</td>\n",
       "      <td>11.0</td>\n",
       "      <td>5</td>\n",
       "      <td>NaN</td>\n",
       "      <td>3443</td>\n",
       "      <td>6992</td>\n",
       "      <td>0.492</td>\n",
       "      <td>59</td>\n",
       "      <td>224</td>\n",
       "      <td>0.263</td>\n",
       "      <td>2316</td>\n",
       "      <td>2883</td>\n",
       "      <td>0.803</td>\n",
       "      <td>1301</td>\n",
       "      <td>2364</td>\n",
       "      <td>3665</td>\n",
       "      <td>1999</td>\n",
       "      <td>1971</td>\n",
       "      <td>817</td>\n",
       "      <td>1575</td>\n",
       "      <td>534</td>\n",
       "      <td>9261</td>\n",
       "      <td>8</td>\n",
       "      <td>3384</td>\n",
       "      <td>6768</td>\n",
       "      <td>0.500000</td>\n",
       "      <td>0.032037</td>\n",
       "      <td>0.967963</td>\n",
       "      <td>0.412328</td>\n",
       "      <td>0.033097</td>\n",
       "      <td>41.268293</td>\n",
       "      <td>0.719512</td>\n",
       "      <td>82.536585</td>\n",
       "      <td>2.731707</td>\n",
       "      <td>112.939024</td>\n",
       "      <td>0.019112</td>\n",
       "      <td>0.730807</td>\n",
       "      <td>1</td>\n",
       "      <td>0</td>\n",
       "      <td>0</td>\n",
       "      <td>0</td>\n",
       "    </tr>\n",
       "    <tr>\n",
       "      <td>2</td>\n",
       "      <td>36</td>\n",
       "      <td>1610612755</td>\n",
       "      <td>Philadelphia</td>\n",
       "      <td>76ers</td>\n",
       "      <td>1985-01-01</td>\n",
       "      <td>82</td>\n",
       "      <td>54</td>\n",
       "      <td>28</td>\n",
       "      <td>0.659</td>\n",
       "      <td>3</td>\n",
       "      <td>2</td>\n",
       "      <td>6</td>\n",
       "      <td>6</td>\n",
       "      <td>11.0</td>\n",
       "      <td>5</td>\n",
       "      <td>NaN</td>\n",
       "      <td>3435</td>\n",
       "      <td>7058</td>\n",
       "      <td>0.487</td>\n",
       "      <td>51</td>\n",
       "      <td>224</td>\n",
       "      <td>0.228</td>\n",
       "      <td>2130</td>\n",
       "      <td>2810</td>\n",
       "      <td>0.758</td>\n",
       "      <td>1326</td>\n",
       "      <td>2378</td>\n",
       "      <td>3704</td>\n",
       "      <td>2017</td>\n",
       "      <td>1798</td>\n",
       "      <td>862</td>\n",
       "      <td>1595</td>\n",
       "      <td>490</td>\n",
       "      <td>9051</td>\n",
       "      <td>11</td>\n",
       "      <td>3384</td>\n",
       "      <td>6834</td>\n",
       "      <td>0.495171</td>\n",
       "      <td>0.031737</td>\n",
       "      <td>0.968263</td>\n",
       "      <td>0.398130</td>\n",
       "      <td>0.032777</td>\n",
       "      <td>41.268293</td>\n",
       "      <td>0.621951</td>\n",
       "      <td>83.341463</td>\n",
       "      <td>2.731707</td>\n",
       "      <td>110.378049</td>\n",
       "      <td>0.016904</td>\n",
       "      <td>0.747763</td>\n",
       "      <td>1</td>\n",
       "      <td>0</td>\n",
       "      <td>0</td>\n",
       "      <td>0</td>\n",
       "    </tr>\n",
       "    <tr>\n",
       "      <td>3</td>\n",
       "      <td>37</td>\n",
       "      <td>1610612755</td>\n",
       "      <td>Philadelphia</td>\n",
       "      <td>76ers</td>\n",
       "      <td>1986-01-01</td>\n",
       "      <td>82</td>\n",
       "      <td>45</td>\n",
       "      <td>37</td>\n",
       "      <td>0.549</td>\n",
       "      <td>5</td>\n",
       "      <td>2</td>\n",
       "      <td>2</td>\n",
       "      <td>3</td>\n",
       "      <td>11.0</td>\n",
       "      <td>5</td>\n",
       "      <td>NaN</td>\n",
       "      <td>3335</td>\n",
       "      <td>6792</td>\n",
       "      <td>0.491</td>\n",
       "      <td>88</td>\n",
       "      <td>340</td>\n",
       "      <td>0.259</td>\n",
       "      <td>1971</td>\n",
       "      <td>2617</td>\n",
       "      <td>0.753</td>\n",
       "      <td>1178</td>\n",
       "      <td>2327</td>\n",
       "      <td>3505</td>\n",
       "      <td>1943</td>\n",
       "      <td>1774</td>\n",
       "      <td>768</td>\n",
       "      <td>1519</td>\n",
       "      <td>540</td>\n",
       "      <td>8729</td>\n",
       "      <td>17</td>\n",
       "      <td>3247</td>\n",
       "      <td>6452</td>\n",
       "      <td>0.503255</td>\n",
       "      <td>0.050059</td>\n",
       "      <td>0.949941</td>\n",
       "      <td>0.385306</td>\n",
       "      <td>0.052697</td>\n",
       "      <td>39.597561</td>\n",
       "      <td>1.073171</td>\n",
       "      <td>78.682927</td>\n",
       "      <td>4.146341</td>\n",
       "      <td>106.451220</td>\n",
       "      <td>0.030244</td>\n",
       "      <td>0.743957</td>\n",
       "      <td>1</td>\n",
       "      <td>0</td>\n",
       "      <td>0</td>\n",
       "      <td>0</td>\n",
       "    </tr>\n",
       "    <tr>\n",
       "      <td>4</td>\n",
       "      <td>38</td>\n",
       "      <td>1610612755</td>\n",
       "      <td>Philadelphia</td>\n",
       "      <td>76ers</td>\n",
       "      <td>1987-01-01</td>\n",
       "      <td>82</td>\n",
       "      <td>36</td>\n",
       "      <td>46</td>\n",
       "      <td>0.439</td>\n",
       "      <td>10</td>\n",
       "      <td>4</td>\n",
       "      <td>0</td>\n",
       "      <td>0</td>\n",
       "      <td>11.0</td>\n",
       "      <td>5</td>\n",
       "      <td>NaN</td>\n",
       "      <td>3214</td>\n",
       "      <td>6785</td>\n",
       "      <td>0.474</td>\n",
       "      <td>152</td>\n",
       "      <td>471</td>\n",
       "      <td>0.323</td>\n",
       "      <td>2087</td>\n",
       "      <td>2731</td>\n",
       "      <td>0.764</td>\n",
       "      <td>1219</td>\n",
       "      <td>2307</td>\n",
       "      <td>3526</td>\n",
       "      <td>1897</td>\n",
       "      <td>1866</td>\n",
       "      <td>672</td>\n",
       "      <td>1433</td>\n",
       "      <td>465</td>\n",
       "      <td>8667</td>\n",
       "      <td>16</td>\n",
       "      <td>3062</td>\n",
       "      <td>6314</td>\n",
       "      <td>0.484954</td>\n",
       "      <td>0.069418</td>\n",
       "      <td>0.930582</td>\n",
       "      <td>0.402506</td>\n",
       "      <td>0.074596</td>\n",
       "      <td>37.341463</td>\n",
       "      <td>1.853659</td>\n",
       "      <td>77.000000</td>\n",
       "      <td>5.743902</td>\n",
       "      <td>105.695122</td>\n",
       "      <td>0.052613</td>\n",
       "      <td>0.706588</td>\n",
       "      <td>0</td>\n",
       "      <td>0</td>\n",
       "      <td>0</td>\n",
       "      <td>0</td>\n",
       "    </tr>\n",
       "  </tbody>\n",
       "</table>\n",
       "</div>"
      ],
      "text/plain": [
       "   Unnamed: 0     TEAM_ID     TEAM_CITY TEAM_NAME        YEAR  GP  WINS  \\\n",
       "0          34  1610612755  Philadelphia     76ers  1983-01-01  82    52   \n",
       "1          35  1610612755  Philadelphia     76ers  1984-01-01  82    58   \n",
       "2          36  1610612755  Philadelphia     76ers  1985-01-01  82    54   \n",
       "3          37  1610612755  Philadelphia     76ers  1986-01-01  82    45   \n",
       "4          38  1610612755  Philadelphia     76ers  1987-01-01  82    36   \n",
       "\n",
       "   LOSSES  WIN_PCT  CONF_RANK  DIV_RANK  PO_WINS  PO_LOSSES  CONF_COUNT  \\\n",
       "0      30    0.634          3         2        2          3        11.0   \n",
       "1      24    0.707          3         2        8          5        11.0   \n",
       "2      28    0.659          3         2        6          6        11.0   \n",
       "3      37    0.549          5         2        2          3        11.0   \n",
       "4      46    0.439         10         4        0          0        11.0   \n",
       "\n",
       "   DIV_COUNT NBA_FINALS_APPEARANCE   FGM   FGA  FG_PCT  FG3M  FG3A  FG3_PCT  \\\n",
       "0          5                   NaN  3384  6833   0.495    29   107    0.271   \n",
       "1          5                   NaN  3443  6992   0.492    59   224    0.263   \n",
       "2          5                   NaN  3435  7058   0.487    51   224    0.228   \n",
       "3          5                   NaN  3335  6792   0.491    88   340    0.259   \n",
       "4          5                   NaN  3214  6785   0.474   152   471    0.323   \n",
       "\n",
       "    FTM   FTA  FT_PCT  OREB  DREB   REB   AST    PF  STL   TOV  BLK   PTS  \\\n",
       "0  2041  2706   0.754  1181  2382  3563  2032  2040  807  1628  653  8838   \n",
       "1  2316  2883   0.803  1301  2364  3665  1999  1971  817  1575  534  9261   \n",
       "2  2130  2810   0.758  1326  2378  3704  2017  1798  862  1595  490  9051   \n",
       "3  1971  2617   0.753  1178  2327  3505  1943  1774  768  1519  540  8729   \n",
       "4  2087  2731   0.764  1219  2307  3526  1897  1866  672  1433  465  8667   \n",
       "\n",
       "   PTS_RANK  FG2M  FG2A   FG2_PCT  FG3A/FGA  FG2A/FGA   FTA/FGA  FG3A/FG2A  \\\n",
       "0        16  3355  6726  0.498811  0.015659  0.984341  0.396019   0.015908   \n",
       "1         8  3384  6768  0.500000  0.032037  0.967963  0.412328   0.033097   \n",
       "2        11  3384  6834  0.495171  0.031737  0.968263  0.398130   0.032777   \n",
       "3        17  3247  6452  0.503255  0.050059  0.949941  0.385306   0.052697   \n",
       "4        16  3062  6314  0.484954  0.069418  0.930582  0.402506   0.074596   \n",
       "\n",
       "   FG2M_PER_GP  FG3M_PER_GP  FG2A_PER_GP  FG3A_PER_GP  PTS_PER_GP  \\\n",
       "0    40.914634     0.353659    82.024390     1.304878  107.780488   \n",
       "1    41.268293     0.719512    82.536585     2.731707  112.939024   \n",
       "2    41.268293     0.621951    83.341463     2.731707  110.378049   \n",
       "3    39.597561     1.073171    78.682927     4.146341  106.451220   \n",
       "4    37.341463     1.853659    77.000000     5.743902  105.695122   \n",
       "\n",
       "   3PT_PER_PTS  2PT_PER_PTS  PLAYOFFS  CHAMPS  FINALS_LOSS  FINALS_APPEARANCE  \n",
       "0     0.009844     0.759222         1       0            0                  0  \n",
       "1     0.019112     0.730807         1       0            0                  0  \n",
       "2     0.016904     0.747763         1       0            0                  0  \n",
       "3     0.030244     0.743957         1       0            0                  0  \n",
       "4     0.052613     0.706588         0       0            0                  0  "
      ]
     },
     "execution_count": 15,
     "metadata": {},
     "output_type": "execute_result"
    }
   ],
   "source": [
    "teams_master.head()"
   ]
  },
  {
   "cell_type": "code",
   "execution_count": 79,
   "metadata": {},
   "outputs": [],
   "source": [
    "teams_master['FTM_PER_GP']=teams_master['FTM']/teams_master['GP']\n",
    "teams_master['FTA_PER_GP']=teams_master['FTA']/teams_master['GP']\n",
    "teams_master['OREB_PER_GP']=teams_master['OREB']/teams_master['GP']\n",
    "teams_master['DREB_PER_GP']=teams_master['DREB']/teams_master['GP']\n",
    "teams_master['REB_PER_GP']=teams_master['REB']/teams_master['GP']\n",
    "teams_master['AST_PER_GP']=teams_master['AST']/teams_master['GP']\n",
    "teams_master['PF_PER_GP']=teams_master['PF']/teams_master['GP']\n",
    "teams_master['STL_PER_GP']=teams_master['STL']/teams_master['GP']\n",
    "teams_master['TOV_PER_GP']=teams_master['TOV']/teams_master['GP']\n",
    "teams_master['BLK_PER_GP']=teams_master['BLK']/teams_master['GP']"
   ]
  },
  {
   "cell_type": "code",
   "execution_count": 16,
   "metadata": {},
   "outputs": [],
   "source": [
    "# Create column with normalized wins in 82 game season to account for two lockout seasons\n",
    "\n",
    "teams_master['Wins'] = teams_master['WINS']/teams_master['GP']*82\n",
    "teams_master['FGA_PER_GP'] = teams_master['FGA']/teams_master['GP']"
   ]
  },
  {
   "cell_type": "code",
   "execution_count": 17,
   "metadata": {},
   "outputs": [],
   "source": [
    "heatmap=teams_master[['Wins','FG_PCT','FG2_PCT','FG3_PCT','FT_PCT','FGA_PER_GP','FG2A_PER_GP','FG3A_PER_GP','PTS_PER_GP','FG3A/FG2A']]"
   ]
  },
  {
   "cell_type": "code",
   "execution_count": 18,
   "metadata": {},
   "outputs": [
    {
     "data": {
      "text/html": [
       "<div>\n",
       "<style scoped>\n",
       "    .dataframe tbody tr th:only-of-type {\n",
       "        vertical-align: middle;\n",
       "    }\n",
       "\n",
       "    .dataframe tbody tr th {\n",
       "        vertical-align: top;\n",
       "    }\n",
       "\n",
       "    .dataframe thead th {\n",
       "        text-align: right;\n",
       "    }\n",
       "</style>\n",
       "<table border=\"1\" class=\"dataframe\">\n",
       "  <thead>\n",
       "    <tr style=\"text-align: right;\">\n",
       "      <th></th>\n",
       "      <th>Wins</th>\n",
       "    </tr>\n",
       "  </thead>\n",
       "  <tbody>\n",
       "    <tr>\n",
       "      <td>Wins</td>\n",
       "      <td>1.000000</td>\n",
       "    </tr>\n",
       "    <tr>\n",
       "      <td>FG2_PCT</td>\n",
       "      <td>0.521586</td>\n",
       "    </tr>\n",
       "    <tr>\n",
       "      <td>FG_PCT</td>\n",
       "      <td>0.488481</td>\n",
       "    </tr>\n",
       "    <tr>\n",
       "      <td>PTS_PER_GP</td>\n",
       "      <td>0.318351</td>\n",
       "    </tr>\n",
       "    <tr>\n",
       "      <td>FG3_PCT</td>\n",
       "      <td>0.261430</td>\n",
       "    </tr>\n",
       "    <tr>\n",
       "      <td>FT_PCT</td>\n",
       "      <td>0.180578</td>\n",
       "    </tr>\n",
       "    <tr>\n",
       "      <td>FG3A/FG2A</td>\n",
       "      <td>0.111671</td>\n",
       "    </tr>\n",
       "    <tr>\n",
       "      <td>FG3A_PER_GP</td>\n",
       "      <td>0.091241</td>\n",
       "    </tr>\n",
       "    <tr>\n",
       "      <td>FGA_PER_GP</td>\n",
       "      <td>-0.083745</td>\n",
       "    </tr>\n",
       "    <tr>\n",
       "      <td>FG2A_PER_GP</td>\n",
       "      <td>-0.113714</td>\n",
       "    </tr>\n",
       "  </tbody>\n",
       "</table>\n",
       "</div>"
      ],
      "text/plain": [
       "                 Wins\n",
       "Wins         1.000000\n",
       "FG2_PCT      0.521586\n",
       "FG_PCT       0.488481\n",
       "PTS_PER_GP   0.318351\n",
       "FG3_PCT      0.261430\n",
       "FT_PCT       0.180578\n",
       "FG3A/FG2A    0.111671\n",
       "FG3A_PER_GP  0.091241\n",
       "FGA_PER_GP  -0.083745\n",
       "FG2A_PER_GP -0.113714"
      ]
     },
     "execution_count": 18,
     "metadata": {},
     "output_type": "execute_result"
    }
   ],
   "source": [
    "corrs = heatmap.corr()[['Wins']].sort_values(by='Wins',ascending=False)\n",
    "corrs"
   ]
  },
  {
   "cell_type": "code",
   "execution_count": 48,
   "metadata": {},
   "outputs": [],
   "source": [
    "features = ['FG2_PCT','FG3_PCT','FT_PCT','FG2A_PER_GP','FG3A_PER_GP','FG3A/FG2A']\n",
    "X = teams_master[features]\n",
    "y = teams_master['Wins']"
   ]
  },
  {
   "cell_type": "code",
   "execution_count": 49,
   "metadata": {},
   "outputs": [],
   "source": [
    "X_train,X_test,y_train,y_test=train_test_split(X,y,random_state=69)"
   ]
  },
  {
   "cell_type": "code",
   "execution_count": 50,
   "metadata": {},
   "outputs": [],
   "source": [
    "lr=LinearRegression()"
   ]
  },
  {
   "cell_type": "code",
   "execution_count": 51,
   "metadata": {},
   "outputs": [
    {
     "data": {
      "text/plain": [
       "LinearRegression(copy_X=True, fit_intercept=True, n_jobs=None, normalize=False)"
      ]
     },
     "execution_count": 51,
     "metadata": {},
     "output_type": "execute_result"
    }
   ],
   "source": [
    "lr.fit(X_train,y_train)"
   ]
  },
  {
   "cell_type": "code",
   "execution_count": 52,
   "metadata": {},
   "outputs": [
    {
     "data": {
      "text/plain": [
       "0.40293932782699526"
      ]
     },
     "execution_count": 52,
     "metadata": {},
     "output_type": "execute_result"
    }
   ],
   "source": [
    "lr.score(X_train,y_train)"
   ]
  },
  {
   "cell_type": "code",
   "execution_count": 53,
   "metadata": {},
   "outputs": [
    {
     "data": {
      "text/plain": [
       "0.29463936349104336"
      ]
     },
     "execution_count": 53,
     "metadata": {},
     "output_type": "execute_result"
    }
   ],
   "source": [
    "lr.score(X_test,y_test)"
   ]
  },
  {
   "cell_type": "code",
   "execution_count": 59,
   "metadata": {},
   "outputs": [],
   "source": [
    "ss=StandardScaler()\n",
    "Z_train=ss.fit_transform(X_train)\n",
    "Z_test=ss.transform(X_test)"
   ]
  },
  {
   "cell_type": "code",
   "execution_count": 61,
   "metadata": {},
   "outputs": [
    {
     "data": {
      "text/plain": [
       "0.40293932782699526"
      ]
     },
     "execution_count": 61,
     "metadata": {},
     "output_type": "execute_result"
    }
   ],
   "source": [
    "lr.fit(Z_train,y_train)\n",
    "lr.score(Z_train,y_train)"
   ]
  },
  {
   "cell_type": "code",
   "execution_count": 64,
   "metadata": {},
   "outputs": [
    {
     "data": {
      "text/plain": [
       "0.29463936349104414"
      ]
     },
     "execution_count": 64,
     "metadata": {},
     "output_type": "execute_result"
    }
   ],
   "source": [
    "lr.score(Z_test,y_test)"
   ]
  },
  {
   "cell_type": "code",
   "execution_count": 66,
   "metadata": {
    "scrolled": true
   },
   "outputs": [
    {
     "name": "stdout",
     "output_type": "stream",
     "text": [
      "Train R2 Score: 0.4028228993636327\n",
      " Test R2 Score: 0.2947414581828065\n"
     ]
    }
   ],
   "source": [
    "r_alphas=np.logspace(0,5,100)\n",
    "ridge_model=RidgeCV(alphas=r_alphas,scoring='r2',cv=5)\n",
    "ridge_model=ridge_model.fit(Z_train,y_train)\n",
    "print(f\"Train R2 Score: {ridge_model.score(Z_train,y_train)}\")\n",
    "print(f\" Test R2 Score: {ridge_model.score(Z_test,y_test)}\")"
   ]
  },
  {
   "cell_type": "code",
   "execution_count": 74,
   "metadata": {},
   "outputs": [
    {
     "data": {
      "image/png": "[encoded data removed]",
      "text/plain": [
       "<Figure size 576x720 with 1 Axes>"
      ]
     },
     "metadata": {},
     "output_type": "display_data"
    }
   ],
   "source": [
    "coef=pd.Series(ridge_model.coef_,index=X.columns)\n",
    "\n",
    "imp_coef=coef.sort_values()\n",
    "\n",
    "plt.plot(figsize=(10,8))\n",
    "imp_coef.plot(kind = \"barh\")\n",
    "plt.title(\"Feature Importance Using Ridge Model\");"
   ]
  },
  {
   "cell_type": "code",
   "execution_count": 76,
   "metadata": {},
   "outputs": [
    {
     "name": "stdout",
     "output_type": "stream",
     "text": [
      "Train R2 Score: 0.4028228993636327\n",
      " Test R2 Score: 0.2947414581828065\n"
     ]
    }
   ],
   "source": [
    "l_alphas=np.logspace(0,5,100)\n",
    "lasso_model=LassoCV(alphas=l_alphas,cv=5,max_iter=5000)\n",
    "lasso_model=ridge_model.fit(Z_train,y_train)\n",
    "print(f\"Train R2 Score: {lasso_model.score(Z_train,y_train)}\")\n",
    "print(f\" Test R2 Score: {lasso_model.score(Z_test,y_test)}\")"
   ]
  },
  {
   "cell_type": "code",
   "execution_count": 78,
   "metadata": {},
   "outputs": [
    {
     "data": {
      "image/png": "[encoded data removed]",
      "text/plain": [
       "<Figure size 576x720 with 1 Axes>"
      ]
     },
     "metadata": {},
     "output_type": "display_data"
    }
   ],
   "source": [
    "coef=pd.Series(lasso_model.coef_,index=X.columns)\n",
    "\n",
    "imp_coef=coef.sort_values()\n",
    "\n",
    "plt.plot(figsize=(10,8))\n",
    "imp_coef.plot(kind = \"barh\")\n",
    "plt.title(\"Feature Importance Using Lasso Model\");"
   ]
  },
  {
   "cell_type": "code",
   "execution_count": 80,
   "metadata": {},
   "outputs": [
    {
     "data": {
      "text/plain": [
       "Index(['Unnamed: 0', 'TEAM_ID', 'TEAM_CITY', 'TEAM_NAME', 'YEAR', 'GP', 'WINS',\n",
       "       'LOSSES', 'WIN_PCT', 'CONF_RANK', 'DIV_RANK', 'PO_WINS', 'PO_LOSSES',\n",
       "       'CONF_COUNT', 'DIV_COUNT', 'NBA_FINALS_APPEARANCE', 'FGM', 'FGA',\n",
       "       'FG_PCT', 'FG3M', 'FG3A', 'FG3_PCT', 'FTM', 'FTA', 'FT_PCT', 'OREB',\n",
       "       'DREB', 'REB', 'AST', 'PF', 'STL', 'TOV', 'BLK', 'PTS', 'PTS_RANK',\n",
       "       'FG2M', 'FG2A', 'FG2_PCT', 'FG3A/FGA', 'FG2A/FGA', 'FTA/FGA',\n",
       "       'FG3A/FG2A', 'FG2M_PER_GP', 'FG3M_PER_GP', 'FG2A_PER_GP', 'FG3A_PER_GP',\n",
       "       'PTS_PER_GP', '3PT_PER_PTS', '2PT_PER_PTS', 'PLAYOFFS', 'CHAMPS',\n",
       "       'FINALS_LOSS', 'FINALS_APPEARANCE', 'Wins', 'FGA_PER_GP', 'FTM_PER_GP',\n",
       "       'FTA_PER_GP', 'OREB_PER_GP', 'DREB_PER_GP', 'REB_PER_GP', 'AST_PER_GP',\n",
       "       'PF_PER_GP', 'STL_PER_GP', 'TOV_PER_GP', 'BLK_PER_GP'],\n",
       "      dtype='object')"
      ]
     },
     "execution_count": 80,
     "metadata": {},
     "output_type": "execute_result"
    }
   ],
   "source": [
    "teams_master.columns"
   ]
  },
  {
   "cell_type": "code",
   "execution_count": 81,
   "metadata": {},
   "outputs": [],
   "source": [
    "feats=['FG2_PCT','FG3_PCT','FT_PCT','FG2M_PER_GP','FG2A_PER_GP','FG3M_PER_GP','FG3A_PER_GP','FTM_PER_GP','FTA_PER_GP','OREB_PER_GP','DREB_PER_GP','AST_PER_GP','PF_PER_GP','STL_PER_GP','TOV_PER_GP','BLK_PER_GP']\n",
    "X=teams_master[feats]\n",
    "y=teams_master['Wins']"
   ]
  },
  {
   "cell_type": "code",
   "execution_count": 82,
   "metadata": {},
   "outputs": [],
   "source": [
    "X_train,X_test,y_train,y_test=train_test_split(X,y,random_state=69)"
   ]
  },
  {
   "cell_type": "code",
   "execution_count": 83,
   "metadata": {},
   "outputs": [],
   "source": [
    "ss=StandardScaler()\n",
    "Z_train=ss.fit_transform(X_train)\n",
    "Z_test=ss.transform(X_test)"
   ]
  },
  {
   "cell_type": "code",
   "execution_count": 84,
   "metadata": {},
   "outputs": [
    {
     "name": "stdout",
     "output_type": "stream",
     "text": [
      "Train R2 Score: 0.7905393433676597\n",
      " Test R2 Score: 0.8189570223499358\n"
     ]
    }
   ],
   "source": [
    "r_alphas=np.logspace(0,5,100)\n",
    "ridge_model=RidgeCV(alphas=r_alphas,scoring='r2',cv=5)\n",
    "ridge_model=ridge_model.fit(Z_train,y_train)\n",
    "print(f\"Train R2 Score: {ridge_model.score(Z_train,y_train)}\")\n",
    "print(f\" Test R2 Score: {ridge_model.score(Z_test,y_test)}\")"
   ]
  },
  {
   "cell_type": "code",
   "execution_count": 85,
   "metadata": {},
   "outputs": [
    {
     "data": {
      "image/png": "[encoded data removed]",
      "text/plain": [
       "<Figure size 576x720 with 1 Axes>"
      ]
     },
     "metadata": {},
     "output_type": "display_data"
    }
   ],
   "source": [
    "coef=pd.Series(ridge_model.coef_,index=X.columns)\n",
    "\n",
    "imp_coef=coef.sort_values()\n",
    "\n",
    "plt.plot(figsize=(10,8))\n",
    "imp_coef.plot(kind = \"barh\")\n",
    "plt.title(\"Feature Importance Using Ridge Model\");"
   ]
  },
  {
   "cell_type": "code",
   "execution_count": 86,
   "metadata": {},
   "outputs": [
    {
     "name": "stdout",
     "output_type": "stream",
     "text": [
      "Train R2 Score: 0.7905393433676597\n",
      " Test R2 Score: 0.8189570223499358\n"
     ]
    }
   ],
   "source": [
    "l_alphas=np.logspace(0,5,100)\n",
    "lasso_model=LassoCV(alphas=l_alphas,cv=5,max_iter=5000)\n",
    "lasso_model=ridge_model.fit(Z_train,y_train)\n",
    "print(f\"Train R2 Score: {lasso_model.score(Z_train,y_train)}\")\n",
    "print(f\" Test R2 Score: {lasso_model.score(Z_test,y_test)}\")"
   ]
  },
  {
   "cell_type": "code",
   "execution_count": 87,
   "metadata": {},
   "outputs": [
    {
     "data": {
      "image/png": "[encoded data removed]",
      "text/plain": [
       "<Figure size 576x720 with 1 Axes>"
      ]
     },
     "metadata": {},
     "output_type": "display_data"
    }
   ],
   "source": [
    "coef=pd.Series(lasso_model.coef_,index=X.columns)\n",
    "\n",
    "imp_coef=coef.sort_values()\n",
    "\n",
    "plt.plot(figsize=(10,8))\n",
    "imp_coef.plot(kind = \"barh\")\n",
    "plt.title(\"Feature Importance Using Lasso Model\");"
   ]
  },
  {
   "cell_type": "code",
   "execution_count": null,
   "metadata": {},
   "outputs": [],
   "source": []
  }
 ],
 "metadata": {
  "kernelspec": {
   "display_name": "Python 3",
   "language": "python",
   "name": "python3"
  },
  "language_info": {
   "codemirror_mode": {
    "name": "ipython",
    "version": 3
   },
   "file_extension": ".py",
   "mimetype": "text/x-python",
   "name": "python",
   "nbconvert_exporter": "python",
   "pygments_lexer": "ipython3",
   "version": "3.7.4"
  }
 },
 "nbformat": 4,
 "nbformat_minor": 2
}
