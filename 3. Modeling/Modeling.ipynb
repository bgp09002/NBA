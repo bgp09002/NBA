{
 "cells": [
  {
   "cell_type": "markdown",
   "metadata": {},
   "source": [
    "## Modeling"
   ]
  },
  {
   "cell_type": "code",
   "execution_count": 195,
   "metadata": {},
   "outputs": [],
   "source": [
    "import pandas as pd\n",
    "import numpy as np\n",
    "from sklearn.linear_model import LinearRegression, LogisticRegression, RidgeCV, LassoCV\n",
    "from sklearn.metrics import r2_score, confusion_matrix, accuracy_score\n",
    "from sklearn.model_selection import train_test_split\n",
    "from sklearn.preprocessing import StandardScaler\n",
    "import matplotlib.pyplot as plt\n",
    "import seaborn as sns\n",
    "import matplotlib\n",
    "import statsmodels.api as sm\n",
    "\n",
    "plt.style.use('fivethirtyeight')"
   ]
  },
  {
   "cell_type": "code",
   "execution_count": 13,
   "metadata": {},
   "outputs": [],
   "source": [
    "teams_master = pd.read_csv('../Data/Teams/teams_master.csv')"
   ]
  },
  {
   "cell_type": "code",
   "execution_count": 14,
   "metadata": {},
   "outputs": [],
   "source": [
    "pd.set_option('display.max_columns', None)"
   ]
  },
  {
   "cell_type": "code",
   "execution_count": 164,
   "metadata": {},
   "outputs": [
    {
     "data": {
      "text/plain": [
       "0    977\n",
       "1     36\n",
       "Name: CHAMPS, dtype: int64"
      ]
     },
     "execution_count": 164,
     "metadata": {},
     "output_type": "execute_result"
    }
   ],
   "source": [
    "teams_master['CHAMPS'].value_counts()"
   ]
  },
  {
   "cell_type": "code",
   "execution_count": 15,
   "metadata": {
    "scrolled": true
   },
   "outputs": [
    {
     "data": {
      "text/html": [
       "<div>\n",
       "<style scoped>\n",
       "    .dataframe tbody tr th:only-of-type {\n",
       "        vertical-align: middle;\n",
       "    }\n",
       "\n",
       "    .dataframe tbody tr th {\n",
       "        vertical-align: top;\n",
       "    }\n",
       "\n",
       "    .dataframe thead th {\n",
       "        text-align: right;\n",
       "    }\n",
       "</style>\n",
       "<table border=\"1\" class=\"dataframe\">\n",
       "  <thead>\n",
       "    <tr style=\"text-align: right;\">\n",
       "      <th></th>\n",
       "      <th>Unnamed: 0</th>\n",
       "      <th>TEAM_ID</th>\n",
       "      <th>TEAM_CITY</th>\n",
       "      <th>TEAM_NAME</th>\n",
       "      <th>YEAR</th>\n",
       "      <th>GP</th>\n",
       "      <th>WINS</th>\n",
       "      <th>LOSSES</th>\n",
       "      <th>WIN_PCT</th>\n",
       "      <th>CONF_RANK</th>\n",
       "      <th>DIV_RANK</th>\n",
       "      <th>PO_WINS</th>\n",
       "      <th>PO_LOSSES</th>\n",
       "      <th>CONF_COUNT</th>\n",
       "      <th>DIV_COUNT</th>\n",
       "      <th>NBA_FINALS_APPEARANCE</th>\n",
       "      <th>FGM</th>\n",
       "      <th>FGA</th>\n",
       "      <th>FG_PCT</th>\n",
       "      <th>FG3M</th>\n",
       "      <th>FG3A</th>\n",
       "      <th>FG3_PCT</th>\n",
       "      <th>FTM</th>\n",
       "      <th>FTA</th>\n",
       "      <th>FT_PCT</th>\n",
       "      <th>OREB</th>\n",
       "      <th>DREB</th>\n",
       "      <th>REB</th>\n",
       "      <th>AST</th>\n",
       "      <th>PF</th>\n",
       "      <th>STL</th>\n",
       "      <th>TOV</th>\n",
       "      <th>BLK</th>\n",
       "      <th>PTS</th>\n",
       "      <th>PTS_RANK</th>\n",
       "      <th>FG2M</th>\n",
       "      <th>FG2A</th>\n",
       "      <th>FG2_PCT</th>\n",
       "      <th>FG3A/FGA</th>\n",
       "      <th>FG2A/FGA</th>\n",
       "      <th>FTA/FGA</th>\n",
       "      <th>FG3A/FG2A</th>\n",
       "      <th>FG2M_PER_GP</th>\n",
       "      <th>FG3M_PER_GP</th>\n",
       "      <th>FG2A_PER_GP</th>\n",
       "      <th>FG3A_PER_GP</th>\n",
       "      <th>PTS_PER_GP</th>\n",
       "      <th>3PT_PER_PTS</th>\n",
       "      <th>2PT_PER_PTS</th>\n",
       "      <th>PLAYOFFS</th>\n",
       "      <th>CHAMPS</th>\n",
       "      <th>FINALS_LOSS</th>\n",
       "      <th>FINALS_APPEARANCE</th>\n",
       "    </tr>\n",
       "  </thead>\n",
       "  <tbody>\n",
       "    <tr>\n",
       "      <td>0</td>\n",
       "      <td>34</td>\n",
       "      <td>1610612755</td>\n",
       "      <td>Philadelphia</td>\n",
       "      <td>76ers</td>\n",
       "      <td>1983-01-01</td>\n",
       "      <td>82</td>\n",
       "      <td>52</td>\n",
       "      <td>30</td>\n",
       "      <td>0.634</td>\n",
       "      <td>3</td>\n",
       "      <td>2</td>\n",
       "      <td>2</td>\n",
       "      <td>3</td>\n",
       "      <td>11.0</td>\n",
       "      <td>5</td>\n",
       "      <td>NaN</td>\n",
       "      <td>3384</td>\n",
       "      <td>6833</td>\n",
       "      <td>0.495</td>\n",
       "      <td>29</td>\n",
       "      <td>107</td>\n",
       "      <td>0.271</td>\n",
       "      <td>2041</td>\n",
       "      <td>2706</td>\n",
       "      <td>0.754</td>\n",
       "      <td>1181</td>\n",
       "      <td>2382</td>\n",
       "      <td>3563</td>\n",
       "      <td>2032</td>\n",
       "      <td>2040</td>\n",
       "      <td>807</td>\n",
       "      <td>1628</td>\n",
       "      <td>653</td>\n",
       "      <td>8838</td>\n",
       "      <td>16</td>\n",
       "      <td>3355</td>\n",
       "      <td>6726</td>\n",
       "      <td>0.498811</td>\n",
       "      <td>0.015659</td>\n",
       "      <td>0.984341</td>\n",
       "      <td>0.396019</td>\n",
       "      <td>0.015908</td>\n",
       "      <td>40.914634</td>\n",
       "      <td>0.353659</td>\n",
       "      <td>82.024390</td>\n",
       "      <td>1.304878</td>\n",
       "      <td>107.780488</td>\n",
       "      <td>0.009844</td>\n",
       "      <td>0.759222</td>\n",
       "      <td>1</td>\n",
       "      <td>0</td>\n",
       "      <td>0</td>\n",
       "      <td>0</td>\n",
       "    </tr>\n",
       "    <tr>\n",
       "      <td>1</td>\n",
       "      <td>35</td>\n",
       "      <td>1610612755</td>\n",
       "      <td>Philadelphia</td>\n",
       "      <td>76ers</td>\n",
       "      <td>1984-01-01</td>\n",
       "      <td>82</td>\n",
       "      <td>58</td>\n",
       "      <td>24</td>\n",
       "      <td>0.707</td>\n",
       "      <td>3</td>\n",
       "      <td>2</td>\n",
       "      <td>8</td>\n",
       "      <td>5</td>\n",
       "      <td>11.0</td>\n",
       "      <td>5</td>\n",
       "      <td>NaN</td>\n",
       "      <td>3443</td>\n",
       "      <td>6992</td>\n",
       "      <td>0.492</td>\n",
       "      <td>59</td>\n",
       "      <td>224</td>\n",
       "      <td>0.263</td>\n",
       "      <td>2316</td>\n",
       "      <td>2883</td>\n",
       "      <td>0.803</td>\n",
       "      <td>1301</td>\n",
       "      <td>2364</td>\n",
       "      <td>3665</td>\n",
       "      <td>1999</td>\n",
       "      <td>1971</td>\n",
       "      <td>817</td>\n",
       "      <td>1575</td>\n",
       "      <td>534</td>\n",
       "      <td>9261</td>\n",
       "      <td>8</td>\n",
       "      <td>3384</td>\n",
       "      <td>6768</td>\n",
       "      <td>0.500000</td>\n",
       "      <td>0.032037</td>\n",
       "      <td>0.967963</td>\n",
       "      <td>0.412328</td>\n",
       "      <td>0.033097</td>\n",
       "      <td>41.268293</td>\n",
       "      <td>0.719512</td>\n",
       "      <td>82.536585</td>\n",
       "      <td>2.731707</td>\n",
       "      <td>112.939024</td>\n",
       "      <td>0.019112</td>\n",
       "      <td>0.730807</td>\n",
       "      <td>1</td>\n",
       "      <td>0</td>\n",
       "      <td>0</td>\n",
       "      <td>0</td>\n",
       "    </tr>\n",
       "    <tr>\n",
       "      <td>2</td>\n",
       "      <td>36</td>\n",
       "      <td>1610612755</td>\n",
       "      <td>Philadelphia</td>\n",
       "      <td>76ers</td>\n",
       "      <td>1985-01-01</td>\n",
       "      <td>82</td>\n",
       "      <td>54</td>\n",
       "      <td>28</td>\n",
       "      <td>0.659</td>\n",
       "      <td>3</td>\n",
       "      <td>2</td>\n",
       "      <td>6</td>\n",
       "      <td>6</td>\n",
       "      <td>11.0</td>\n",
       "      <td>5</td>\n",
       "      <td>NaN</td>\n",
       "      <td>3435</td>\n",
       "      <td>7058</td>\n",
       "      <td>0.487</td>\n",
       "      <td>51</td>\n",
       "      <td>224</td>\n",
       "      <td>0.228</td>\n",
       "      <td>2130</td>\n",
       "      <td>2810</td>\n",
       "      <td>0.758</td>\n",
       "      <td>1326</td>\n",
       "      <td>2378</td>\n",
       "      <td>3704</td>\n",
       "      <td>2017</td>\n",
       "      <td>1798</td>\n",
       "      <td>862</td>\n",
       "      <td>1595</td>\n",
       "      <td>490</td>\n",
       "      <td>9051</td>\n",
       "      <td>11</td>\n",
       "      <td>3384</td>\n",
       "      <td>6834</td>\n",
       "      <td>0.495171</td>\n",
       "      <td>0.031737</td>\n",
       "      <td>0.968263</td>\n",
       "      <td>0.398130</td>\n",
       "      <td>0.032777</td>\n",
       "      <td>41.268293</td>\n",
       "      <td>0.621951</td>\n",
       "      <td>83.341463</td>\n",
       "      <td>2.731707</td>\n",
       "      <td>110.378049</td>\n",
       "      <td>0.016904</td>\n",
       "      <td>0.747763</td>\n",
       "      <td>1</td>\n",
       "      <td>0</td>\n",
       "      <td>0</td>\n",
       "      <td>0</td>\n",
       "    </tr>\n",
       "    <tr>\n",
       "      <td>3</td>\n",
       "      <td>37</td>\n",
       "      <td>1610612755</td>\n",
       "      <td>Philadelphia</td>\n",
       "      <td>76ers</td>\n",
       "      <td>1986-01-01</td>\n",
       "      <td>82</td>\n",
       "      <td>45</td>\n",
       "      <td>37</td>\n",
       "      <td>0.549</td>\n",
       "      <td>5</td>\n",
       "      <td>2</td>\n",
       "      <td>2</td>\n",
       "      <td>3</td>\n",
       "      <td>11.0</td>\n",
       "      <td>5</td>\n",
       "      <td>NaN</td>\n",
       "      <td>3335</td>\n",
       "      <td>6792</td>\n",
       "      <td>0.491</td>\n",
       "      <td>88</td>\n",
       "      <td>340</td>\n",
       "      <td>0.259</td>\n",
       "      <td>1971</td>\n",
       "      <td>2617</td>\n",
       "      <td>0.753</td>\n",
       "      <td>1178</td>\n",
       "      <td>2327</td>\n",
       "      <td>3505</td>\n",
       "      <td>1943</td>\n",
       "      <td>1774</td>\n",
       "      <td>768</td>\n",
       "      <td>1519</td>\n",
       "      <td>540</td>\n",
       "      <td>8729</td>\n",
       "      <td>17</td>\n",
       "      <td>3247</td>\n",
       "      <td>6452</td>\n",
       "      <td>0.503255</td>\n",
       "      <td>0.050059</td>\n",
       "      <td>0.949941</td>\n",
       "      <td>0.385306</td>\n",
       "      <td>0.052697</td>\n",
       "      <td>39.597561</td>\n",
       "      <td>1.073171</td>\n",
       "      <td>78.682927</td>\n",
       "      <td>4.146341</td>\n",
       "      <td>106.451220</td>\n",
       "      <td>0.030244</td>\n",
       "      <td>0.743957</td>\n",
       "      <td>1</td>\n",
       "      <td>0</td>\n",
       "      <td>0</td>\n",
       "      <td>0</td>\n",
       "    </tr>\n",
       "    <tr>\n",
       "      <td>4</td>\n",
       "      <td>38</td>\n",
       "      <td>1610612755</td>\n",
       "      <td>Philadelphia</td>\n",
       "      <td>76ers</td>\n",
       "      <td>1987-01-01</td>\n",
       "      <td>82</td>\n",
       "      <td>36</td>\n",
       "      <td>46</td>\n",
       "      <td>0.439</td>\n",
       "      <td>10</td>\n",
       "      <td>4</td>\n",
       "      <td>0</td>\n",
       "      <td>0</td>\n",
       "      <td>11.0</td>\n",
       "      <td>5</td>\n",
       "      <td>NaN</td>\n",
       "      <td>3214</td>\n",
       "      <td>6785</td>\n",
       "      <td>0.474</td>\n",
       "      <td>152</td>\n",
       "      <td>471</td>\n",
       "      <td>0.323</td>\n",
       "      <td>2087</td>\n",
       "      <td>2731</td>\n",
       "      <td>0.764</td>\n",
       "      <td>1219</td>\n",
       "      <td>2307</td>\n",
       "      <td>3526</td>\n",
       "      <td>1897</td>\n",
       "      <td>1866</td>\n",
       "      <td>672</td>\n",
       "      <td>1433</td>\n",
       "      <td>465</td>\n",
       "      <td>8667</td>\n",
       "      <td>16</td>\n",
       "      <td>3062</td>\n",
       "      <td>6314</td>\n",
       "      <td>0.484954</td>\n",
       "      <td>0.069418</td>\n",
       "      <td>0.930582</td>\n",
       "      <td>0.402506</td>\n",
       "      <td>0.074596</td>\n",
       "      <td>37.341463</td>\n",
       "      <td>1.853659</td>\n",
       "      <td>77.000000</td>\n",
       "      <td>5.743902</td>\n",
       "      <td>105.695122</td>\n",
       "      <td>0.052613</td>\n",
       "      <td>0.706588</td>\n",
       "      <td>0</td>\n",
       "      <td>0</td>\n",
       "      <td>0</td>\n",
       "      <td>0</td>\n",
       "    </tr>\n",
       "  </tbody>\n",
       "</table>\n",
       "</div>"
      ],
      "text/plain": [
       "   Unnamed: 0     TEAM_ID     TEAM_CITY TEAM_NAME        YEAR  GP  WINS  \\\n",
       "0          34  1610612755  Philadelphia     76ers  1983-01-01  82    52   \n",
       "1          35  1610612755  Philadelphia     76ers  1984-01-01  82    58   \n",
       "2          36  1610612755  Philadelphia     76ers  1985-01-01  82    54   \n",
       "3          37  1610612755  Philadelphia     76ers  1986-01-01  82    45   \n",
       "4          38  1610612755  Philadelphia     76ers  1987-01-01  82    36   \n",
       "\n",
       "   LOSSES  WIN_PCT  CONF_RANK  DIV_RANK  PO_WINS  PO_LOSSES  CONF_COUNT  \\\n",
       "0      30    0.634          3         2        2          3        11.0   \n",
       "1      24    0.707          3         2        8          5        11.0   \n",
       "2      28    0.659          3         2        6          6        11.0   \n",
       "3      37    0.549          5         2        2          3        11.0   \n",
       "4      46    0.439         10         4        0          0        11.0   \n",
       "\n",
       "   DIV_COUNT NBA_FINALS_APPEARANCE   FGM   FGA  FG_PCT  FG3M  FG3A  FG3_PCT  \\\n",
       "0          5                   NaN  3384  6833   0.495    29   107    0.271   \n",
       "1          5                   NaN  3443  6992   0.492    59   224    0.263   \n",
       "2          5                   NaN  3435  7058   0.487    51   224    0.228   \n",
       "3          5                   NaN  3335  6792   0.491    88   340    0.259   \n",
       "4          5                   NaN  3214  6785   0.474   152   471    0.323   \n",
       "\n",
       "    FTM   FTA  FT_PCT  OREB  DREB   REB   AST    PF  STL   TOV  BLK   PTS  \\\n",
       "0  2041  2706   0.754  1181  2382  3563  2032  2040  807  1628  653  8838   \n",
       "1  2316  2883   0.803  1301  2364  3665  1999  1971  817  1575  534  9261   \n",
       "2  2130  2810   0.758  1326  2378  3704  2017  1798  862  1595  490  9051   \n",
       "3  1971  2617   0.753  1178  2327  3505  1943  1774  768  1519  540  8729   \n",
       "4  2087  2731   0.764  1219  2307  3526  1897  1866  672  1433  465  8667   \n",
       "\n",
       "   PTS_RANK  FG2M  FG2A   FG2_PCT  FG3A/FGA  FG2A/FGA   FTA/FGA  FG3A/FG2A  \\\n",
       "0        16  3355  6726  0.498811  0.015659  0.984341  0.396019   0.015908   \n",
       "1         8  3384  6768  0.500000  0.032037  0.967963  0.412328   0.033097   \n",
       "2        11  3384  6834  0.495171  0.031737  0.968263  0.398130   0.032777   \n",
       "3        17  3247  6452  0.503255  0.050059  0.949941  0.385306   0.052697   \n",
       "4        16  3062  6314  0.484954  0.069418  0.930582  0.402506   0.074596   \n",
       "\n",
       "   FG2M_PER_GP  FG3M_PER_GP  FG2A_PER_GP  FG3A_PER_GP  PTS_PER_GP  \\\n",
       "0    40.914634     0.353659    82.024390     1.304878  107.780488   \n",
       "1    41.268293     0.719512    82.536585     2.731707  112.939024   \n",
       "2    41.268293     0.621951    83.341463     2.731707  110.378049   \n",
       "3    39.597561     1.073171    78.682927     4.146341  106.451220   \n",
       "4    37.341463     1.853659    77.000000     5.743902  105.695122   \n",
       "\n",
       "   3PT_PER_PTS  2PT_PER_PTS  PLAYOFFS  CHAMPS  FINALS_LOSS  FINALS_APPEARANCE  \n",
       "0     0.009844     0.759222         1       0            0                  0  \n",
       "1     0.019112     0.730807         1       0            0                  0  \n",
       "2     0.016904     0.747763         1       0            0                  0  \n",
       "3     0.030244     0.743957         1       0            0                  0  \n",
       "4     0.052613     0.706588         0       0            0                  0  "
      ]
     },
     "execution_count": 15,
     "metadata": {},
     "output_type": "execute_result"
    }
   ],
   "source": [
    "teams_master.head()"
   ]
  },
  {
   "cell_type": "code",
   "execution_count": 79,
   "metadata": {},
   "outputs": [],
   "source": [
    "teams_master['FTM_PER_GP']=teams_master['FTM']/teams_master['GP']\n",
    "teams_master['FTA_PER_GP']=teams_master['FTA']/teams_master['GP']\n",
    "teams_master['OREB_PER_GP']=teams_master['OREB']/teams_master['GP']\n",
    "teams_master['DREB_PER_GP']=teams_master['DREB']/teams_master['GP']\n",
    "teams_master['REB_PER_GP']=teams_master['REB']/teams_master['GP']\n",
    "teams_master['AST_PER_GP']=teams_master['AST']/teams_master['GP']\n",
    "teams_master['PF_PER_GP']=teams_master['PF']/teams_master['GP']\n",
    "teams_master['STL_PER_GP']=teams_master['STL']/teams_master['GP']\n",
    "teams_master['TOV_PER_GP']=teams_master['TOV']/teams_master['GP']\n",
    "teams_master['BLK_PER_GP']=teams_master['BLK']/teams_master['GP']"
   ]
  },
  {
   "cell_type": "code",
   "execution_count": 16,
   "metadata": {},
   "outputs": [],
   "source": [
    "# Create column with normalized wins in 82 game season to account for two lockout seasons\n",
    "\n",
    "teams_master['Wins'] = teams_master['WINS']/teams_master['GP']*82\n",
    "teams_master['FGA_PER_GP'] = teams_master['FGA']/teams_master['GP']"
   ]
  },
  {
   "cell_type": "code",
   "execution_count": 17,
   "metadata": {},
   "outputs": [],
   "source": [
    "heatmap=teams_master[['Wins','FG_PCT','FG2_PCT','FG3_PCT','FT_PCT','FGA_PER_GP','FG2A_PER_GP','FG3A_PER_GP','PTS_PER_GP','FG3A/FG2A']]"
   ]
  },
  {
   "cell_type": "code",
   "execution_count": 18,
   "metadata": {},
   "outputs": [
    {
     "data": {
      "text/html": [
       "<div>\n",
       "<style scoped>\n",
       "    .dataframe tbody tr th:only-of-type {\n",
       "        vertical-align: middle;\n",
       "    }\n",
       "\n",
       "    .dataframe tbody tr th {\n",
       "        vertical-align: top;\n",
       "    }\n",
       "\n",
       "    .dataframe thead th {\n",
       "        text-align: right;\n",
       "    }\n",
       "</style>\n",
       "<table border=\"1\" class=\"dataframe\">\n",
       "  <thead>\n",
       "    <tr style=\"text-align: right;\">\n",
       "      <th></th>\n",
       "      <th>Wins</th>\n",
       "    </tr>\n",
       "  </thead>\n",
       "  <tbody>\n",
       "    <tr>\n",
       "      <td>Wins</td>\n",
       "      <td>1.000000</td>\n",
       "    </tr>\n",
       "    <tr>\n",
       "      <td>FG2_PCT</td>\n",
       "      <td>0.521586</td>\n",
       "    </tr>\n",
       "    <tr>\n",
       "      <td>FG_PCT</td>\n",
       "      <td>0.488481</td>\n",
       "    </tr>\n",
       "    <tr>\n",
       "      <td>PTS_PER_GP</td>\n",
       "      <td>0.318351</td>\n",
       "    </tr>\n",
       "    <tr>\n",
       "      <td>FG3_PCT</td>\n",
       "      <td>0.261430</td>\n",
       "    </tr>\n",
       "    <tr>\n",
       "      <td>FT_PCT</td>\n",
       "      <td>0.180578</td>\n",
       "    </tr>\n",
       "    <tr>\n",
       "      <td>FG3A/FG2A</td>\n",
       "      <td>0.111671</td>\n",
       "    </tr>\n",
       "    <tr>\n",
       "      <td>FG3A_PER_GP</td>\n",
       "      <td>0.091241</td>\n",
       "    </tr>\n",
       "    <tr>\n",
       "      <td>FGA_PER_GP</td>\n",
       "      <td>-0.083745</td>\n",
       "    </tr>\n",
       "    <tr>\n",
       "      <td>FG2A_PER_GP</td>\n",
       "      <td>-0.113714</td>\n",
       "    </tr>\n",
       "  </tbody>\n",
       "</table>\n",
       "</div>"
      ],
      "text/plain": [
       "                 Wins\n",
       "Wins         1.000000\n",
       "FG2_PCT      0.521586\n",
       "FG_PCT       0.488481\n",
       "PTS_PER_GP   0.318351\n",
       "FG3_PCT      0.261430\n",
       "FT_PCT       0.180578\n",
       "FG3A/FG2A    0.111671\n",
       "FG3A_PER_GP  0.091241\n",
       "FGA_PER_GP  -0.083745\n",
       "FG2A_PER_GP -0.113714"
      ]
     },
     "execution_count": 18,
     "metadata": {},
     "output_type": "execute_result"
    }
   ],
   "source": [
    "corrs = heatmap.corr()[['Wins']].sort_values(by='Wins',ascending=False)\n",
    "corrs"
   ]
  },
  {
   "cell_type": "code",
   "execution_count": 48,
   "metadata": {},
   "outputs": [],
   "source": [
    "features = ['FG2_PCT','FG3_PCT','FT_PCT','FG2A_PER_GP','FG3A_PER_GP','FG3A/FG2A']\n",
    "X = teams_master[features]\n",
    "y = teams_master['Wins']"
   ]
  },
  {
   "cell_type": "code",
   "execution_count": 49,
   "metadata": {},
   "outputs": [],
   "source": [
    "X_train,X_test,y_train,y_test=train_test_split(X,y,random_state=69)"
   ]
  },
  {
   "cell_type": "code",
   "execution_count": 50,
   "metadata": {},
   "outputs": [],
   "source": [
    "lr=LinearRegression()"
   ]
  },
  {
   "cell_type": "code",
   "execution_count": 51,
   "metadata": {},
   "outputs": [
    {
     "data": {
      "text/plain": [
       "LinearRegression(copy_X=True, fit_intercept=True, n_jobs=None, normalize=False)"
      ]
     },
     "execution_count": 51,
     "metadata": {},
     "output_type": "execute_result"
    }
   ],
   "source": [
    "lr.fit(X_train,y_train)"
   ]
  },
  {
   "cell_type": "code",
   "execution_count": 52,
   "metadata": {},
   "outputs": [
    {
     "data": {
      "text/plain": [
       "0.40293932782699526"
      ]
     },
     "execution_count": 52,
     "metadata": {},
     "output_type": "execute_result"
    }
   ],
   "source": [
    "lr.score(X_train,y_train)"
   ]
  },
  {
   "cell_type": "code",
   "execution_count": 53,
   "metadata": {
    "scrolled": true
   },
   "outputs": [
    {
     "data": {
      "text/plain": [
       "0.29463936349104336"
      ]
     },
     "execution_count": 53,
     "metadata": {},
     "output_type": "execute_result"
    }
   ],
   "source": [
    "lr.score(X_test,y_test)"
   ]
  },
  {
   "cell_type": "code",
   "execution_count": 59,
   "metadata": {},
   "outputs": [],
   "source": [
    "ss=StandardScaler()\n",
    "Z_train=ss.fit_transform(X_train)\n",
    "Z_test=ss.transform(X_test)"
   ]
  },
  {
   "cell_type": "code",
   "execution_count": 61,
   "metadata": {},
   "outputs": [
    {
     "data": {
      "text/plain": [
       "0.40293932782699526"
      ]
     },
     "execution_count": 61,
     "metadata": {},
     "output_type": "execute_result"
    }
   ],
   "source": [
    "lr.fit(Z_train,y_train)\n",
    "lr.score(Z_train,y_train)"
   ]
  },
  {
   "cell_type": "code",
   "execution_count": 64,
   "metadata": {},
   "outputs": [
    {
     "data": {
      "text/plain": [
       "0.29463936349104414"
      ]
     },
     "execution_count": 64,
     "metadata": {},
     "output_type": "execute_result"
    }
   ],
   "source": [
    "lr.score(Z_test,y_test)"
   ]
  },
  {
   "cell_type": "code",
   "execution_count": 66,
   "metadata": {
    "scrolled": true
   },
   "outputs": [
    {
     "name": "stdout",
     "output_type": "stream",
     "text": [
      "Train R2 Score: 0.4028228993636327\n",
      " Test R2 Score: 0.2947414581828065\n"
     ]
    }
   ],
   "source": [
    "r_alphas=np.logspace(0,5,100)\n",
    "ridge_model=RidgeCV(alphas=r_alphas,scoring='r2',cv=5)\n",
    "ridge_model=ridge_model.fit(Z_train,y_train)\n",
    "print(f\"Train R2 Score: {ridge_model.score(Z_train,y_train)}\")\n",
    "print(f\" Test R2 Score: {ridge_model.score(Z_test,y_test)}\")"
   ]
  },
  {
   "cell_type": "code",
   "execution_count": 74,
   "metadata": {},
   "outputs": [
    {
     "data": {
      "image/png": "[encoded data removed]",
      "text/plain": [
       "<Figure size 576x720 with 1 Axes>"
      ]
     },
     "metadata": {},
     "output_type": "display_data"
    }
   ],
   "source": [
    "coef=pd.Series(ridge_model.coef_,index=X.columns)\n",
    "\n",
    "imp_coef=coef.sort_values()\n",
    "\n",
    "plt.plot(figsize=(10,8))\n",
    "imp_coef.plot(kind = \"barh\")\n",
    "plt.title(\"Feature Importance Using Ridge Model\");"
   ]
  },
  {
   "cell_type": "code",
   "execution_count": 76,
   "metadata": {},
   "outputs": [
    {
     "name": "stdout",
     "output_type": "stream",
     "text": [
      "Train R2 Score: 0.4028228993636327\n",
      " Test R2 Score: 0.2947414581828065\n"
     ]
    }
   ],
   "source": [
    "l_alphas=np.logspace(0,5,100)\n",
    "lasso_model=LassoCV(alphas=l_alphas,cv=5,max_iter=5000)\n",
    "lasso_model=ridge_model.fit(Z_train,y_train)\n",
    "print(f\"Train R2 Score: {lasso_model.score(Z_train,y_train)}\")\n",
    "print(f\" Test R2 Score: {lasso_model.score(Z_test,y_test)}\")"
   ]
  },
  {
   "cell_type": "code",
   "execution_count": 78,
   "metadata": {},
   "outputs": [
    {
     "data": {
      "image/png": "[encoded data removed]",
      "text/plain": [
       "<Figure size 576x720 with 1 Axes>"
      ]
     },
     "metadata": {},
     "output_type": "display_data"
    }
   ],
   "source": [
    "coef=pd.Series(lasso_model.coef_,index=X.columns)\n",
    "\n",
    "imp_coef=coef.sort_values()\n",
    "\n",
    "plt.plot(figsize=(10,8))\n",
    "imp_coef.plot(kind = \"barh\")\n",
    "plt.title(\"Feature Importance Using Lasso Model\");"
   ]
  },
  {
   "cell_type": "code",
   "execution_count": 212,
   "metadata": {},
   "outputs": [],
   "source": [
    "feats=['FG2_PCT','FG3_PCT','FT_PCT','FG2M_PER_GP','FG2A_PER_GP','FG3M_PER_GP','FG3A_PER_GP','FTM_PER_GP','FTA_PER_GP','OREB_PER_GP','DREB_PER_GP','AST_PER_GP','PF_PER_GP','STL_PER_GP','TOV_PER_GP','BLK_PER_GP']\n",
    "X=teams_master[feats]\n",
    "y=teams_master['Wins']"
   ]
  },
  {
   "cell_type": "code",
   "execution_count": 213,
   "metadata": {},
   "outputs": [],
   "source": [
    "X_train,X_test,y_train,y_test=train_test_split(X,y,random_state=69)"
   ]
  },
  {
   "cell_type": "code",
   "execution_count": 214,
   "metadata": {},
   "outputs": [],
   "source": [
    "ss=StandardScaler()\n",
    "Z_train=ss.fit_transform(X_train)\n",
    "Z_test=ss.transform(X_test)"
   ]
  },
  {
   "cell_type": "code",
   "execution_count": 84,
   "metadata": {},
   "outputs": [
    {
     "name": "stdout",
     "output_type": "stream",
     "text": [
      "Train R2 Score: 0.7905393433676597\n",
      " Test R2 Score: 0.8189570223499358\n"
     ]
    }
   ],
   "source": [
    "r_alphas=np.logspace(0,5,100)\n",
    "ridge_model=RidgeCV(alphas=r_alphas,scoring='r2',cv=5)\n",
    "ridge_model=ridge_model.fit(Z_train,y_train)\n",
    "print(f\"Train R2 Score: {ridge_model.score(Z_train,y_train)}\")\n",
    "print(f\" Test R2 Score: {ridge_model.score(Z_test,y_test)}\")"
   ]
  },
  {
   "cell_type": "code",
   "execution_count": 85,
   "metadata": {},
   "outputs": [
    {
     "data": {
      "image/png": "[encoded data removed]",
      "text/plain": [
       "<Figure size 576x720 with 1 Axes>"
      ]
     },
     "metadata": {},
     "output_type": "display_data"
    }
   ],
   "source": [
    "coef=pd.Series(ridge_model.coef_,index=X.columns)\n",
    "\n",
    "imp_coef=coef.sort_values()\n",
    "\n",
    "plt.plot(figsize=(10,8))\n",
    "imp_coef.plot(kind = \"barh\")\n",
    "plt.title(\"Feature Importance Using Ridge Model\");"
   ]
  },
  {
   "cell_type": "code",
   "execution_count": 86,
   "metadata": {},
   "outputs": [
    {
     "name": "stdout",
     "output_type": "stream",
     "text": [
      "Train R2 Score: 0.7905393433676597\n",
      " Test R2 Score: 0.8189570223499358\n"
     ]
    }
   ],
   "source": [
    "l_alphas=np.logspace(0,5,100)\n",
    "lasso_model=LassoCV(alphas=l_alphas,cv=5,max_iter=5000)\n",
    "lasso_model=ridge_model.fit(Z_train,y_train)\n",
    "print(f\"Train R2 Score: {lasso_model.score(Z_train,y_train)}\")\n",
    "print(f\" Test R2 Score: {lasso_model.score(Z_test,y_test)}\")"
   ]
  },
  {
   "cell_type": "code",
   "execution_count": 92,
   "metadata": {},
   "outputs": [
    {
     "data": {
      "image/png": "[encoded data removed]",
      "text/plain": [
       "<Figure size 576x720 with 1 Axes>"
      ]
     },
     "metadata": {},
     "output_type": "display_data"
    }
   ],
   "source": [
    "coef=pd.Series(lasso_model.coef_,index=X.columns)\n",
    "\n",
    "imp_coef=coef.sort_values()\n",
    "\n",
    "plt.plot(figsize=(10,8))\n",
    "imp_coef.plot(kind = \"barh\")\n",
    "plt.title(\"Feature Importance Using Lasso Model\");"
   ]
  },
  {
   "cell_type": "code",
   "execution_count": 215,
   "metadata": {},
   "outputs": [],
   "source": [
    "z_train=sm.add_constant(Z_train)"
   ]
  },
  {
   "cell_type": "code",
   "execution_count": 216,
   "metadata": {},
   "outputs": [],
   "source": [
    "ols=sm.OLS(y_train,z_train)"
   ]
  },
  {
   "cell_type": "code",
   "execution_count": 217,
   "metadata": {},
   "outputs": [],
   "source": [
    "model=ols.fit()"
   ]
  },
  {
   "cell_type": "code",
   "execution_count": 218,
   "metadata": {},
   "outputs": [
    {
     "data": {
      "text/html": [
       "<table class=\"simpletable\">\n",
       "<caption>OLS Regression Results</caption>\n",
       "<tr>\n",
       "  <th>Dep. Variable:</th>          <td>Wins</td>       <th>  R-squared:         </th> <td>   0.805</td> \n",
       "</tr>\n",
       "<tr>\n",
       "  <th>Model:</th>                   <td>OLS</td>       <th>  Adj. R-squared:    </th> <td>   0.801</td> \n",
       "</tr>\n",
       "<tr>\n",
       "  <th>Method:</th>             <td>Least Squares</td>  <th>  F-statistic:       </th> <td>   191.3</td> \n",
       "</tr>\n",
       "<tr>\n",
       "  <th>Date:</th>             <td>Mon, 16 Mar 2020</td> <th>  Prob (F-statistic):</th> <td>2.23e-250</td>\n",
       "</tr>\n",
       "<tr>\n",
       "  <th>Time:</th>                 <td>13:57:20</td>     <th>  Log-Likelihood:    </th> <td> -2384.5</td> \n",
       "</tr>\n",
       "<tr>\n",
       "  <th>No. Observations:</th>      <td>   759</td>      <th>  AIC:               </th> <td>   4803.</td> \n",
       "</tr>\n",
       "<tr>\n",
       "  <th>Df Residuals:</th>          <td>   742</td>      <th>  BIC:               </th> <td>   4882.</td> \n",
       "</tr>\n",
       "<tr>\n",
       "  <th>Df Model:</th>              <td>    16</td>      <th>                     </th>     <td> </td>    \n",
       "</tr>\n",
       "<tr>\n",
       "  <th>Covariance Type:</th>      <td>nonrobust</td>    <th>                     </th>     <td> </td>    \n",
       "</tr>\n",
       "</table>\n",
       "<table class=\"simpletable\">\n",
       "<tr>\n",
       "    <td></td>       <th>coef</th>     <th>std err</th>      <th>t</th>      <th>P>|t|</th>  <th>[0.025</th>    <th>0.975]</th>  \n",
       "</tr>\n",
       "<tr>\n",
       "  <th>const</th> <td>   41.5828</td> <td>    0.206</td> <td>  202.278</td> <td> 0.000</td> <td>   41.179</td> <td>   41.986</td>\n",
       "</tr>\n",
       "<tr>\n",
       "  <th>x1</th>    <td>   -5.0787</td> <td>    1.658</td> <td>   -3.064</td> <td> 0.002</td> <td>   -8.333</td> <td>   -1.824</td>\n",
       "</tr>\n",
       "<tr>\n",
       "  <th>x2</th>    <td>   -1.6468</td> <td>    0.398</td> <td>   -4.140</td> <td> 0.000</td> <td>   -2.428</td> <td>   -0.866</td>\n",
       "</tr>\n",
       "<tr>\n",
       "  <th>x3</th>    <td>    0.4904</td> <td>    1.850</td> <td>    0.265</td> <td> 0.791</td> <td>   -3.141</td> <td>    4.122</td>\n",
       "</tr>\n",
       "<tr>\n",
       "  <th>x4</th>    <td>   35.6497</td> <td>    5.134</td> <td>    6.944</td> <td> 0.000</td> <td>   25.571</td> <td>   45.729</td>\n",
       "</tr>\n",
       "<tr>\n",
       "  <th>x5</th>    <td>  -54.7050</td> <td>    4.961</td> <td>  -11.026</td> <td> 0.000</td> <td>  -64.445</td> <td>  -44.965</td>\n",
       "</tr>\n",
       "<tr>\n",
       "  <th>x6</th>    <td>   34.5075</td> <td>    2.808</td> <td>   12.290</td> <td> 0.000</td> <td>   28.995</td> <td>   40.020</td>\n",
       "</tr>\n",
       "<tr>\n",
       "  <th>x7</th>    <td>  -50.9871</td> <td>    2.706</td> <td>  -18.839</td> <td> 0.000</td> <td>  -56.300</td> <td>  -45.674</td>\n",
       "</tr>\n",
       "<tr>\n",
       "  <th>x8</th>    <td>    2.4697</td> <td>    5.873</td> <td>    0.421</td> <td> 0.674</td> <td>   -9.060</td> <td>   13.999</td>\n",
       "</tr>\n",
       "<tr>\n",
       "  <th>x9</th>    <td>   -1.7357</td> <td>    5.740</td> <td>   -0.302</td> <td> 0.762</td> <td>  -13.005</td> <td>    9.533</td>\n",
       "</tr>\n",
       "<tr>\n",
       "  <th>x10</th>   <td>    8.8434</td> <td>    0.439</td> <td>   20.143</td> <td> 0.000</td> <td>    7.982</td> <td>    9.705</td>\n",
       "</tr>\n",
       "<tr>\n",
       "  <th>x11</th>   <td>    7.7862</td> <td>    0.358</td> <td>   21.723</td> <td> 0.000</td> <td>    7.082</td> <td>    8.490</td>\n",
       "</tr>\n",
       "<tr>\n",
       "  <th>x12</th>   <td>    1.4991</td> <td>    0.367</td> <td>    4.081</td> <td> 0.000</td> <td>    0.778</td> <td>    2.220</td>\n",
       "</tr>\n",
       "<tr>\n",
       "  <th>x13</th>   <td>    0.6333</td> <td>    0.313</td> <td>    2.025</td> <td> 0.043</td> <td>    0.019</td> <td>    1.247</td>\n",
       "</tr>\n",
       "<tr>\n",
       "  <th>x14</th>   <td>    4.8534</td> <td>    0.273</td> <td>   17.781</td> <td> 0.000</td> <td>    4.318</td> <td>    5.389</td>\n",
       "</tr>\n",
       "<tr>\n",
       "  <th>x15</th>   <td>   -7.2501</td> <td>    0.318</td> <td>  -22.790</td> <td> 0.000</td> <td>   -7.875</td> <td>   -6.626</td>\n",
       "</tr>\n",
       "<tr>\n",
       "  <th>x16</th>   <td>    0.5443</td> <td>    0.231</td> <td>    2.359</td> <td> 0.019</td> <td>    0.091</td> <td>    0.997</td>\n",
       "</tr>\n",
       "</table>\n",
       "<table class=\"simpletable\">\n",
       "<tr>\n",
       "  <th>Omnibus:</th>       <td> 1.981</td> <th>  Durbin-Watson:     </th> <td>   1.989</td>\n",
       "</tr>\n",
       "<tr>\n",
       "  <th>Prob(Omnibus):</th> <td> 0.371</td> <th>  Jarque-Bera (JB):  </th> <td>   2.017</td>\n",
       "</tr>\n",
       "<tr>\n",
       "  <th>Skew:</th>          <td> 0.123</td> <th>  Prob(JB):          </th> <td>   0.365</td>\n",
       "</tr>\n",
       "<tr>\n",
       "  <th>Kurtosis:</th>      <td> 2.945</td> <th>  Cond. No.          </th> <td>    112.</td>\n",
       "</tr>\n",
       "</table><br/><br/>Warnings:<br/>[1] Standard Errors assume that the covariance matrix of the errors is correctly specified."
      ],
      "text/plain": [
       "<class 'statsmodels.iolib.summary.Summary'>\n",
       "\"\"\"\n",
       "                            OLS Regression Results                            \n",
       "==============================================================================\n",
       "Dep. Variable:                   Wins   R-squared:                       0.805\n",
       "Model:                            OLS   Adj. R-squared:                  0.801\n",
       "Method:                 Least Squares   F-statistic:                     191.3\n",
       "Date:                Mon, 16 Mar 2020   Prob (F-statistic):          2.23e-250\n",
       "Time:                        13:57:20   Log-Likelihood:                -2384.5\n",
       "No. Observations:                 759   AIC:                             4803.\n",
       "Df Residuals:                     742   BIC:                             4882.\n",
       "Df Model:                          16                                         \n",
       "Covariance Type:            nonrobust                                         \n",
       "==============================================================================\n",
       "                 coef    std err          t      P>|t|      [0.025      0.975]\n",
       "------------------------------------------------------------------------------\n",
       "const         41.5828      0.206    202.278      0.000      41.179      41.986\n",
       "x1            -5.0787      1.658     -3.064      0.002      -8.333      -1.824\n",
       "x2            -1.6468      0.398     -4.140      0.000      -2.428      -0.866\n",
       "x3             0.4904      1.850      0.265      0.791      -3.141       4.122\n",
       "x4            35.6497      5.134      6.944      0.000      25.571      45.729\n",
       "x5           -54.7050      4.961    -11.026      0.000     -64.445     -44.965\n",
       "x6            34.5075      2.808     12.290      0.000      28.995      40.020\n",
       "x7           -50.9871      2.706    -18.839      0.000     -56.300     -45.674\n",
       "x8             2.4697      5.873      0.421      0.674      -9.060      13.999\n",
       "x9            -1.7357      5.740     -0.302      0.762     -13.005       9.533\n",
       "x10            8.8434      0.439     20.143      0.000       7.982       9.705\n",
       "x11            7.7862      0.358     21.723      0.000       7.082       8.490\n",
       "x12            1.4991      0.367      4.081      0.000       0.778       2.220\n",
       "x13            0.6333      0.313      2.025      0.043       0.019       1.247\n",
       "x14            4.8534      0.273     17.781      0.000       4.318       5.389\n",
       "x15           -7.2501      0.318    -22.790      0.000      -7.875      -6.626\n",
       "x16            0.5443      0.231      2.359      0.019       0.091       0.997\n",
       "==============================================================================\n",
       "Omnibus:                        1.981   Durbin-Watson:                   1.989\n",
       "Prob(Omnibus):                  0.371   Jarque-Bera (JB):                2.017\n",
       "Skew:                           0.123   Prob(JB):                        0.365\n",
       "Kurtosis:                       2.945   Cond. No.                         112.\n",
       "==============================================================================\n",
       "\n",
       "Warnings:\n",
       "[1] Standard Errors assume that the covariance matrix of the errors is correctly specified.\n",
       "\"\"\""
      ]
     },
     "execution_count": 218,
     "metadata": {},
     "output_type": "execute_result"
    }
   ],
   "source": [
    "model.summary()"
   ]
  },
  {
   "cell_type": "code",
   "execution_count": 219,
   "metadata": {},
   "outputs": [
    {
     "data": {
      "text/plain": [
       "0.8048939310194891"
      ]
     },
     "execution_count": 219,
     "metadata": {},
     "output_type": "execute_result"
    }
   ],
   "source": [
    "y_preds=model.predict(z_train)\n",
    "r2_score(y_train,y_preds)"
   ]
  },
  {
   "cell_type": "code",
   "execution_count": 102,
   "metadata": {},
   "outputs": [],
   "source": [
    "z_test=sm.add_constant(Z_test)"
   ]
  },
  {
   "cell_type": "code",
   "execution_count": 104,
   "metadata": {
    "scrolled": true
   },
   "outputs": [],
   "source": [
    "y_preds=model.predict(z_test)"
   ]
  },
  {
   "cell_type": "code",
   "execution_count": 105,
   "metadata": {},
   "outputs": [
    {
     "data": {
      "text/plain": [
       "0.8292833215228629"
      ]
     },
     "execution_count": 105,
     "metadata": {},
     "output_type": "execute_result"
    }
   ],
   "source": [
    "r2_score(y_test,y_preds)"
   ]
  },
  {
   "cell_type": "code",
   "execution_count": 210,
   "metadata": {
    "scrolled": false
   },
   "outputs": [
    {
     "data": {
      "text/html": [
       "<div>\n",
       "<style scoped>\n",
       "    .dataframe tbody tr th:only-of-type {\n",
       "        vertical-align: middle;\n",
       "    }\n",
       "\n",
       "    .dataframe tbody tr th {\n",
       "        vertical-align: top;\n",
       "    }\n",
       "\n",
       "    .dataframe thead th {\n",
       "        text-align: right;\n",
       "    }\n",
       "</style>\n",
       "<table border=\"1\" class=\"dataframe\">\n",
       "  <thead>\n",
       "    <tr style=\"text-align: right;\">\n",
       "      <th></th>\n",
       "      <th>P Value</th>\n",
       "      <th>Coef</th>\n",
       "    </tr>\n",
       "    <tr>\n",
       "      <th>Vars</th>\n",
       "      <th></th>\n",
       "      <th></th>\n",
       "    </tr>\n",
       "  </thead>\n",
       "  <tbody>\n",
       "    <tr>\n",
       "      <td>TOV_PER_GP</td>\n",
       "      <td>1.465805e-87</td>\n",
       "      <td>-7.250075</td>\n",
       "    </tr>\n",
       "    <tr>\n",
       "      <td>DREB_PER_GP</td>\n",
       "      <td>2.304090e-81</td>\n",
       "      <td>7.786153</td>\n",
       "    </tr>\n",
       "    <tr>\n",
       "      <td>OREB_PER_GP</td>\n",
       "      <td>2.569598e-72</td>\n",
       "      <td>8.843412</td>\n",
       "    </tr>\n",
       "    <tr>\n",
       "      <td>FG3A_PER_GP</td>\n",
       "      <td>5.333058e-65</td>\n",
       "      <td>-50.987063</td>\n",
       "    </tr>\n",
       "    <tr>\n",
       "      <td>STL_PER_GP</td>\n",
       "      <td>3.474749e-59</td>\n",
       "      <td>4.853440</td>\n",
       "    </tr>\n",
       "    <tr>\n",
       "      <td>FG3M_PER_GP</td>\n",
       "      <td>9.919873e-32</td>\n",
       "      <td>34.507502</td>\n",
       "    </tr>\n",
       "    <tr>\n",
       "      <td>FG2A_PER_GP</td>\n",
       "      <td>2.753155e-26</td>\n",
       "      <td>-54.705050</td>\n",
       "    </tr>\n",
       "    <tr>\n",
       "      <td>FG2M_PER_GP</td>\n",
       "      <td>8.348782e-12</td>\n",
       "      <td>35.649740</td>\n",
       "    </tr>\n",
       "    <tr>\n",
       "      <td>FG3_PCT</td>\n",
       "      <td>3.878271e-05</td>\n",
       "      <td>-1.646833</td>\n",
       "    </tr>\n",
       "    <tr>\n",
       "      <td>AST_PER_GP</td>\n",
       "      <td>4.973263e-05</td>\n",
       "      <td>1.499133</td>\n",
       "    </tr>\n",
       "    <tr>\n",
       "      <td>FG2_PCT</td>\n",
       "      <td>2.264849e-03</td>\n",
       "      <td>-5.078743</td>\n",
       "    </tr>\n",
       "    <tr>\n",
       "      <td>BLK_PER_GP</td>\n",
       "      <td>1.858550e-02</td>\n",
       "      <td>0.544288</td>\n",
       "    </tr>\n",
       "    <tr>\n",
       "      <td>PF_PER_GP</td>\n",
       "      <td>4.325264e-02</td>\n",
       "      <td>0.633323</td>\n",
       "    </tr>\n",
       "    <tr>\n",
       "      <td>FTM_PER_GP</td>\n",
       "      <td>6.742264e-01</td>\n",
       "      <td>2.469692</td>\n",
       "    </tr>\n",
       "    <tr>\n",
       "      <td>FTA_PER_GP</td>\n",
       "      <td>7.624511e-01</td>\n",
       "      <td>-1.735706</td>\n",
       "    </tr>\n",
       "    <tr>\n",
       "      <td>FT_PCT</td>\n",
       "      <td>7.909956e-01</td>\n",
       "      <td>0.490373</td>\n",
       "    </tr>\n",
       "  </tbody>\n",
       "</table>\n",
       "</div>"
      ],
      "text/plain": [
       "                  P Value       Coef\n",
       "Vars                                \n",
       "TOV_PER_GP   1.465805e-87  -7.250075\n",
       "DREB_PER_GP  2.304090e-81   7.786153\n",
       "OREB_PER_GP  2.569598e-72   8.843412\n",
       "FG3A_PER_GP  5.333058e-65 -50.987063\n",
       "STL_PER_GP   3.474749e-59   4.853440\n",
       "FG3M_PER_GP  9.919873e-32  34.507502\n",
       "FG2A_PER_GP  2.753155e-26 -54.705050\n",
       "FG2M_PER_GP  8.348782e-12  35.649740\n",
       "FG3_PCT      3.878271e-05  -1.646833\n",
       "AST_PER_GP   4.973263e-05   1.499133\n",
       "FG2_PCT      2.264849e-03  -5.078743\n",
       "BLK_PER_GP   1.858550e-02   0.544288\n",
       "PF_PER_GP    4.325264e-02   0.633323\n",
       "FTM_PER_GP   6.742264e-01   2.469692\n",
       "FTA_PER_GP   7.624511e-01  -1.735706\n",
       "FT_PCT       7.909956e-01   0.490373"
      ]
     },
     "execution_count": 210,
     "metadata": {},
     "output_type": "execute_result"
    }
   ],
   "source": [
    "pvalues=model.pvalues.to_frame().rename(columns={0:'P Value'})\n",
    "pvalues['Coef']=model.params.to_list()\n",
    "pvalues.drop('const',inplace=True)\n",
    "pvalues['Vars']=feats\n",
    "pvalues.set_index('Vars',inplace=True)\n",
    "pvalues.sort_values(by=['P Value'])"
   ]
  },
  {
   "cell_type": "code",
   "execution_count": 211,
   "metadata": {},
   "outputs": [
    {
     "data": {
      "image/png": "[encoded data removed]",
      "text/plain": [
       "<Figure size 576x720 with 1 Axes>"
      ]
     },
     "metadata": {},
     "output_type": "display_data"
    }
   ],
   "source": [
    "imp_coef=pvalues.loc[pvalues['P Value']<.05]['Coef'].sort_values()\n",
    "\n",
    "plt.plot(figsize=(10,8))\n",
    "imp_coef.plot(kind = \"barh\")\n",
    "plt.title(\"Feature Importance Using Linear Model to Predict Team Wins\");"
   ]
  },
  {
   "cell_type": "code",
   "execution_count": 180,
   "metadata": {},
   "outputs": [],
   "source": [
    "feats=['FG2_PCT','FG3_PCT','FT_PCT','FG2M_PER_GP','FG2A_PER_GP','FG3M_PER_GP','FG3A_PER_GP','FTM_PER_GP','FTA_PER_GP','OREB_PER_GP','DREB_PER_GP','AST_PER_GP','PF_PER_GP','STL_PER_GP','TOV_PER_GP','BLK_PER_GP']\n",
    "X=teams_master[feats]\n",
    "y=teams_master['PLAYOFFS']"
   ]
  },
  {
   "cell_type": "code",
   "execution_count": 181,
   "metadata": {},
   "outputs": [],
   "source": [
    "X_train,X_test,y_train,y_test=train_test_split(X,y,random_state=69)"
   ]
  },
  {
   "cell_type": "code",
   "execution_count": 182,
   "metadata": {},
   "outputs": [],
   "source": [
    "ss=StandardScaler()\n",
    "Z_train=ss.fit_transform(X_train)\n",
    "Z_test=ss.transform(X_test)"
   ]
  },
  {
   "cell_type": "code",
   "execution_count": 183,
   "metadata": {},
   "outputs": [],
   "source": [
    "logreg = LogisticRegression()"
   ]
  },
  {
   "cell_type": "code",
   "execution_count": 184,
   "metadata": {
    "scrolled": true
   },
   "outputs": [
    {
     "data": {
      "text/plain": [
       "0.841897233201581"
      ]
     },
     "execution_count": 184,
     "metadata": {},
     "output_type": "execute_result"
    }
   ],
   "source": [
    "logreg.fit(Z_train,y_train)\n",
    "logreg.score(Z_train,y_train)"
   ]
  },
  {
   "cell_type": "code",
   "execution_count": 185,
   "metadata": {},
   "outputs": [
    {
     "data": {
      "text/plain": [
       "0.8228346456692913"
      ]
     },
     "execution_count": 185,
     "metadata": {},
     "output_type": "execute_result"
    }
   ],
   "source": [
    "logreg.score(Z_test,y_test)"
   ]
  },
  {
   "cell_type": "code",
   "execution_count": 187,
   "metadata": {},
   "outputs": [
    {
     "data": {
      "text/html": [
       "<div>\n",
       "<style scoped>\n",
       "    .dataframe tbody tr th:only-of-type {\n",
       "        vertical-align: middle;\n",
       "    }\n",
       "\n",
       "    .dataframe tbody tr th {\n",
       "        vertical-align: top;\n",
       "    }\n",
       "\n",
       "    .dataframe thead th {\n",
       "        text-align: right;\n",
       "    }\n",
       "</style>\n",
       "<table border=\"1\" class=\"dataframe\">\n",
       "  <thead>\n",
       "    <tr style=\"text-align: right;\">\n",
       "      <th></th>\n",
       "      <th>pred losers</th>\n",
       "      <th>pred playoffs</th>\n",
       "    </tr>\n",
       "  </thead>\n",
       "  <tbody>\n",
       "    <tr>\n",
       "      <td>actual losers</td>\n",
       "      <td>245</td>\n",
       "      <td>62</td>\n",
       "    </tr>\n",
       "    <tr>\n",
       "      <td>actual playoffs</td>\n",
       "      <td>58</td>\n",
       "      <td>394</td>\n",
       "    </tr>\n",
       "  </tbody>\n",
       "</table>\n",
       "</div>"
      ],
      "text/plain": [
       "                 pred losers  pred playoffs\n",
       "actual losers            245             62\n",
       "actual playoffs           58            394"
      ]
     },
     "execution_count": 187,
     "metadata": {},
     "output_type": "execute_result"
    }
   ],
   "source": [
    "pred=logreg.predict(Z_train)\n",
    "cm=confusion_matrix(y_train,pred)\n",
    "cm_df = pd.DataFrame(cm,\n",
    "                    columns = ['pred losers', 'pred playoffs'],\n",
    "                    index = ['actual losers', 'actual playoffs'])\n",
    "cm_df"
   ]
  },
  {
   "cell_type": "code",
   "execution_count": 186,
   "metadata": {},
   "outputs": [
    {
     "data": {
      "text/html": [
       "<div>\n",
       "<style scoped>\n",
       "    .dataframe tbody tr th:only-of-type {\n",
       "        vertical-align: middle;\n",
       "    }\n",
       "\n",
       "    .dataframe tbody tr th {\n",
       "        vertical-align: top;\n",
       "    }\n",
       "\n",
       "    .dataframe thead th {\n",
       "        text-align: right;\n",
       "    }\n",
       "</style>\n",
       "<table border=\"1\" class=\"dataframe\">\n",
       "  <thead>\n",
       "    <tr style=\"text-align: right;\">\n",
       "      <th></th>\n",
       "      <th>pred losers</th>\n",
       "      <th>pred playoffs</th>\n",
       "    </tr>\n",
       "  </thead>\n",
       "  <tbody>\n",
       "    <tr>\n",
       "      <td>actual losers</td>\n",
       "      <td>98</td>\n",
       "      <td>27</td>\n",
       "    </tr>\n",
       "    <tr>\n",
       "      <td>actual playoffs</td>\n",
       "      <td>18</td>\n",
       "      <td>111</td>\n",
       "    </tr>\n",
       "  </tbody>\n",
       "</table>\n",
       "</div>"
      ],
      "text/plain": [
       "                 pred losers  pred playoffs\n",
       "actual losers             98             27\n",
       "actual playoffs           18            111"
      ]
     },
     "execution_count": 186,
     "metadata": {},
     "output_type": "execute_result"
    }
   ],
   "source": [
    "pred=logreg.predict(Z_test)\n",
    "cm=confusion_matrix(y_test,pred)\n",
    "cm_df = pd.DataFrame(cm,\n",
    "                    columns = ['pred losers', 'pred playoffs'],\n",
    "                    index = ['actual losers', 'actual playoffs'])\n",
    "cm_df"
   ]
  },
  {
   "cell_type": "code",
   "execution_count": 143,
   "metadata": {
    "scrolled": false
   },
   "outputs": [
    {
     "data": {
      "image/png": "[encoded data removed]",
      "text/plain": [
       "<Figure size 576x720 with 1 Axes>"
      ]
     },
     "metadata": {},
     "output_type": "display_data"
    }
   ],
   "source": [
    "coef=pd.Series(logreg.coef_[0],index=X.columns)\n",
    "\n",
    "imp_coef=coef.sort_values()\n",
    "\n",
    "plt.plot(figsize=(10,8))\n",
    "imp_coef.plot(kind = \"barh\")\n",
    "plt.title(\"Feature Importance Using LogReg Model\");"
   ]
  },
  {
   "cell_type": "code",
   "execution_count": 191,
   "metadata": {},
   "outputs": [
    {
     "name": "stdout",
     "output_type": "stream",
     "text": [
      "Optimization terminated successfully.\n",
      "         Current function value: 0.357265\n",
      "         Iterations 7\n"
     ]
    }
   ],
   "source": [
    "logit = sm.Logit(y_train,Z_train)\n",
    "logmodel=logit.fit()"
   ]
  },
  {
   "cell_type": "code",
   "execution_count": 207,
   "metadata": {},
   "outputs": [
    {
     "data": {
      "text/plain": [
       "0.8458498023715415"
      ]
     },
     "execution_count": 207,
     "metadata": {},
     "output_type": "execute_result"
    }
   ],
   "source": [
    "y_preds=logmodel.predict(Z_train)\n",
    "ypreds=[0 if i<0.5 else 1 for i in y_preds]\n",
    "accuracy_score(y_train,ypreds)"
   ]
  },
  {
   "cell_type": "code",
   "execution_count": 208,
   "metadata": {},
   "outputs": [
    {
     "data": {
      "text/plain": [
       "0.8307086614173228"
      ]
     },
     "execution_count": 208,
     "metadata": {},
     "output_type": "execute_result"
    }
   ],
   "source": [
    "y_preds=logmodel.predict(Z_test)\n",
    "ypreds=[0 if i<0.5 else 1 for i in y_preds]\n",
    "accuracy_score(y_test,ypreds)"
   ]
  },
  {
   "cell_type": "code",
   "execution_count": 194,
   "metadata": {
    "scrolled": false
   },
   "outputs": [
    {
     "data": {
      "text/html": [
       "<table class=\"simpletable\">\n",
       "<caption>Logit Regression Results</caption>\n",
       "<tr>\n",
       "  <th>Dep. Variable:</th>       <td>PLAYOFFS</td>     <th>  No. Observations:  </th>  <td>   759</td>  \n",
       "</tr>\n",
       "<tr>\n",
       "  <th>Model:</th>                 <td>Logit</td>      <th>  Df Residuals:      </th>  <td>   743</td>  \n",
       "</tr>\n",
       "<tr>\n",
       "  <th>Method:</th>                 <td>MLE</td>       <th>  Df Model:          </th>  <td>    15</td>  \n",
       "</tr>\n",
       "<tr>\n",
       "  <th>Date:</th>            <td>Mon, 16 Mar 2020</td> <th>  Pseudo R-squ.:     </th>  <td>0.4706</td>  \n",
       "</tr>\n",
       "<tr>\n",
       "  <th>Time:</th>                <td>12:03:23</td>     <th>  Log-Likelihood:    </th> <td> -271.16</td> \n",
       "</tr>\n",
       "<tr>\n",
       "  <th>converged:</th>             <td>True</td>       <th>  LL-Null:           </th> <td> -512.16</td> \n",
       "</tr>\n",
       "<tr>\n",
       "  <th>Covariance Type:</th>     <td>nonrobust</td>    <th>  LLR p-value:       </th> <td>3.618e-93</td>\n",
       "</tr>\n",
       "</table>\n",
       "<table class=\"simpletable\">\n",
       "<tr>\n",
       "   <td></td>      <th>coef</th>     <th>std err</th>      <th>z</th>      <th>P>|z|</th>  <th>[0.025</th>    <th>0.975]</th>  \n",
       "</tr>\n",
       "<tr>\n",
       "  <th>x1</th>  <td>   -2.8888</td> <td>    0.957</td> <td>   -3.020</td> <td> 0.003</td> <td>   -4.764</td> <td>   -1.014</td>\n",
       "</tr>\n",
       "<tr>\n",
       "  <th>x2</th>  <td>   -0.6102</td> <td>    0.212</td> <td>   -2.877</td> <td> 0.004</td> <td>   -1.026</td> <td>   -0.195</td>\n",
       "</tr>\n",
       "<tr>\n",
       "  <th>x3</th>  <td>    1.0289</td> <td>    1.033</td> <td>    0.996</td> <td> 0.319</td> <td>   -0.996</td> <td>    3.054</td>\n",
       "</tr>\n",
       "<tr>\n",
       "  <th>x4</th>  <td>   13.3984</td> <td>    3.105</td> <td>    4.315</td> <td> 0.000</td> <td>    7.313</td> <td>   19.484</td>\n",
       "</tr>\n",
       "<tr>\n",
       "  <th>x5</th>  <td>  -18.4814</td> <td>    3.121</td> <td>   -5.922</td> <td> 0.000</td> <td>  -24.598</td> <td>  -12.365</td>\n",
       "</tr>\n",
       "<tr>\n",
       "  <th>x6</th>  <td>    6.6829</td> <td>    1.560</td> <td>    4.285</td> <td> 0.000</td> <td>    3.626</td> <td>    9.740</td>\n",
       "</tr>\n",
       "<tr>\n",
       "  <th>x7</th>  <td>  -11.0453</td> <td>    1.592</td> <td>   -6.939</td> <td> 0.000</td> <td>  -14.165</td> <td>   -7.925</td>\n",
       "</tr>\n",
       "<tr>\n",
       "  <th>x8</th>  <td>   -1.9978</td> <td>    3.319</td> <td>   -0.602</td> <td> 0.547</td> <td>   -8.503</td> <td>    4.507</td>\n",
       "</tr>\n",
       "<tr>\n",
       "  <th>x9</th>  <td>    2.2810</td> <td>    3.242</td> <td>    0.704</td> <td> 0.482</td> <td>   -4.074</td> <td>    8.636</td>\n",
       "</tr>\n",
       "<tr>\n",
       "  <th>x10</th> <td>    2.1201</td> <td>    0.263</td> <td>    8.048</td> <td> 0.000</td> <td>    1.604</td> <td>    2.636</td>\n",
       "</tr>\n",
       "<tr>\n",
       "  <th>x11</th> <td>    2.0410</td> <td>    0.229</td> <td>    8.898</td> <td> 0.000</td> <td>    1.591</td> <td>    2.491</td>\n",
       "</tr>\n",
       "<tr>\n",
       "  <th>x12</th> <td>    0.8162</td> <td>    0.207</td> <td>    3.934</td> <td> 0.000</td> <td>    0.410</td> <td>    1.223</td>\n",
       "</tr>\n",
       "<tr>\n",
       "  <th>x13</th> <td>    0.4477</td> <td>    0.172</td> <td>    2.599</td> <td> 0.009</td> <td>    0.110</td> <td>    0.785</td>\n",
       "</tr>\n",
       "<tr>\n",
       "  <th>x14</th> <td>    1.4148</td> <td>    0.165</td> <td>    8.551</td> <td> 0.000</td> <td>    1.091</td> <td>    1.739</td>\n",
       "</tr>\n",
       "<tr>\n",
       "  <th>x15</th> <td>   -2.0133</td> <td>    0.212</td> <td>   -9.498</td> <td> 0.000</td> <td>   -2.429</td> <td>   -1.598</td>\n",
       "</tr>\n",
       "<tr>\n",
       "  <th>x16</th> <td>    0.0885</td> <td>    0.124</td> <td>    0.717</td> <td> 0.473</td> <td>   -0.154</td> <td>    0.331</td>\n",
       "</tr>\n",
       "</table>"
      ],
      "text/plain": [
       "<class 'statsmodels.iolib.summary.Summary'>\n",
       "\"\"\"\n",
       "                           Logit Regression Results                           \n",
       "==============================================================================\n",
       "Dep. Variable:               PLAYOFFS   No. Observations:                  759\n",
       "Model:                          Logit   Df Residuals:                      743\n",
       "Method:                           MLE   Df Model:                           15\n",
       "Date:                Mon, 16 Mar 2020   Pseudo R-squ.:                  0.4706\n",
       "Time:                        12:03:23   Log-Likelihood:                -271.16\n",
       "converged:                       True   LL-Null:                       -512.16\n",
       "Covariance Type:            nonrobust   LLR p-value:                 3.618e-93\n",
       "==============================================================================\n",
       "                 coef    std err          z      P>|z|      [0.025      0.975]\n",
       "------------------------------------------------------------------------------\n",
       "x1            -2.8888      0.957     -3.020      0.003      -4.764      -1.014\n",
       "x2            -0.6102      0.212     -2.877      0.004      -1.026      -0.195\n",
       "x3             1.0289      1.033      0.996      0.319      -0.996       3.054\n",
       "x4            13.3984      3.105      4.315      0.000       7.313      19.484\n",
       "x5           -18.4814      3.121     -5.922      0.000     -24.598     -12.365\n",
       "x6             6.6829      1.560      4.285      0.000       3.626       9.740\n",
       "x7           -11.0453      1.592     -6.939      0.000     -14.165      -7.925\n",
       "x8            -1.9978      3.319     -0.602      0.547      -8.503       4.507\n",
       "x9             2.2810      3.242      0.704      0.482      -4.074       8.636\n",
       "x10            2.1201      0.263      8.048      0.000       1.604       2.636\n",
       "x11            2.0410      0.229      8.898      0.000       1.591       2.491\n",
       "x12            0.8162      0.207      3.934      0.000       0.410       1.223\n",
       "x13            0.4477      0.172      2.599      0.009       0.110       0.785\n",
       "x14            1.4148      0.165      8.551      0.000       1.091       1.739\n",
       "x15           -2.0133      0.212     -9.498      0.000      -2.429      -1.598\n",
       "x16            0.0885      0.124      0.717      0.473      -0.154       0.331\n",
       "==============================================================================\n",
       "\"\"\""
      ]
     },
     "execution_count": 194,
     "metadata": {},
     "output_type": "execute_result"
    }
   ],
   "source": [
    "logmodel.summary()"
   ]
  },
  {
   "cell_type": "code",
   "execution_count": 192,
   "metadata": {
    "scrolled": false
   },
   "outputs": [
    {
     "data": {
      "text/html": [
       "<div>\n",
       "<style scoped>\n",
       "    .dataframe tbody tr th:only-of-type {\n",
       "        vertical-align: middle;\n",
       "    }\n",
       "\n",
       "    .dataframe tbody tr th {\n",
       "        vertical-align: top;\n",
       "    }\n",
       "\n",
       "    .dataframe thead th {\n",
       "        text-align: right;\n",
       "    }\n",
       "</style>\n",
       "<table border=\"1\" class=\"dataframe\">\n",
       "  <thead>\n",
       "    <tr style=\"text-align: right;\">\n",
       "      <th></th>\n",
       "      <th>P Value</th>\n",
       "      <th>Coef</th>\n",
       "    </tr>\n",
       "    <tr>\n",
       "      <th>Vars</th>\n",
       "      <th></th>\n",
       "      <th></th>\n",
       "    </tr>\n",
       "  </thead>\n",
       "  <tbody>\n",
       "    <tr>\n",
       "      <td>TOV_PER_GP</td>\n",
       "      <td>2.149787e-21</td>\n",
       "      <td>-2.013283</td>\n",
       "    </tr>\n",
       "    <tr>\n",
       "      <td>DREB_PER_GP</td>\n",
       "      <td>5.670190e-19</td>\n",
       "      <td>2.041044</td>\n",
       "    </tr>\n",
       "    <tr>\n",
       "      <td>STL_PER_GP</td>\n",
       "      <td>1.216529e-17</td>\n",
       "      <td>1.414821</td>\n",
       "    </tr>\n",
       "    <tr>\n",
       "      <td>OREB_PER_GP</td>\n",
       "      <td>8.428626e-16</td>\n",
       "      <td>2.120075</td>\n",
       "    </tr>\n",
       "    <tr>\n",
       "      <td>FG3A_PER_GP</td>\n",
       "      <td>3.951593e-12</td>\n",
       "      <td>-11.045326</td>\n",
       "    </tr>\n",
       "    <tr>\n",
       "      <td>FG2A_PER_GP</td>\n",
       "      <td>3.177764e-09</td>\n",
       "      <td>-18.481444</td>\n",
       "    </tr>\n",
       "    <tr>\n",
       "      <td>FG2M_PER_GP</td>\n",
       "      <td>1.592660e-05</td>\n",
       "      <td>13.398364</td>\n",
       "    </tr>\n",
       "    <tr>\n",
       "      <td>FG3M_PER_GP</td>\n",
       "      <td>1.830050e-05</td>\n",
       "      <td>6.682920</td>\n",
       "    </tr>\n",
       "    <tr>\n",
       "      <td>AST_PER_GP</td>\n",
       "      <td>8.366096e-05</td>\n",
       "      <td>0.816213</td>\n",
       "    </tr>\n",
       "    <tr>\n",
       "      <td>FG2_PCT</td>\n",
       "      <td>2.527626e-03</td>\n",
       "      <td>-2.888782</td>\n",
       "    </tr>\n",
       "    <tr>\n",
       "      <td>FG3_PCT</td>\n",
       "      <td>4.009273e-03</td>\n",
       "      <td>-0.610230</td>\n",
       "    </tr>\n",
       "    <tr>\n",
       "      <td>PF_PER_GP</td>\n",
       "      <td>9.344509e-03</td>\n",
       "      <td>0.447707</td>\n",
       "    </tr>\n",
       "    <tr>\n",
       "      <td>FT_PCT</td>\n",
       "      <td>3.193799e-01</td>\n",
       "      <td>1.028946</td>\n",
       "    </tr>\n",
       "    <tr>\n",
       "      <td>BLK_PER_GP</td>\n",
       "      <td>4.734944e-01</td>\n",
       "      <td>0.088544</td>\n",
       "    </tr>\n",
       "    <tr>\n",
       "      <td>FTA_PER_GP</td>\n",
       "      <td>4.817298e-01</td>\n",
       "      <td>2.281049</td>\n",
       "    </tr>\n",
       "    <tr>\n",
       "      <td>FTM_PER_GP</td>\n",
       "      <td>5.472061e-01</td>\n",
       "      <td>-1.997821</td>\n",
       "    </tr>\n",
       "  </tbody>\n",
       "</table>\n",
       "</div>"
      ],
      "text/plain": [
       "                  P Value       Coef\n",
       "Vars                                \n",
       "TOV_PER_GP   2.149787e-21  -2.013283\n",
       "DREB_PER_GP  5.670190e-19   2.041044\n",
       "STL_PER_GP   1.216529e-17   1.414821\n",
       "OREB_PER_GP  8.428626e-16   2.120075\n",
       "FG3A_PER_GP  3.951593e-12 -11.045326\n",
       "FG2A_PER_GP  3.177764e-09 -18.481444\n",
       "FG2M_PER_GP  1.592660e-05  13.398364\n",
       "FG3M_PER_GP  1.830050e-05   6.682920\n",
       "AST_PER_GP   8.366096e-05   0.816213\n",
       "FG2_PCT      2.527626e-03  -2.888782\n",
       "FG3_PCT      4.009273e-03  -0.610230\n",
       "PF_PER_GP    9.344509e-03   0.447707\n",
       "FT_PCT       3.193799e-01   1.028946\n",
       "BLK_PER_GP   4.734944e-01   0.088544\n",
       "FTA_PER_GP   4.817298e-01   2.281049\n",
       "FTM_PER_GP   5.472061e-01  -1.997821"
      ]
     },
     "execution_count": 192,
     "metadata": {},
     "output_type": "execute_result"
    }
   ],
   "source": [
    "pvalues=logmodel.pvalues.to_frame().rename(columns={0:'P Value'})\n",
    "pvalues['Coef']=logmodel.params.to_list()\n",
    "pvalues['Vars']=feats\n",
    "pvalues.set_index('Vars',inplace=True)\n",
    "pvalues.sort_values(by=['P Value'])"
   ]
  },
  {
   "cell_type": "code",
   "execution_count": 209,
   "metadata": {},
   "outputs": [
    {
     "data": {
      "image/png": "[encoded data removed]",
      "text/plain": [
       "<Figure size 576x720 with 1 Axes>"
      ]
     },
     "metadata": {},
     "output_type": "display_data"
    }
   ],
   "source": [
    "imp_coef=pvalues.loc[pvalues['P Value']<.05]['Coef'].sort_values()\n",
    "\n",
    "plt.plot(figsize=(10,8))\n",
    "imp_coef.plot(kind = \"barh\")\n",
    "plt.title(\"Feature Importance Using LogReg Model to Predict Playoff Appearance\");"
   ]
  },
  {
   "cell_type": "code",
   "execution_count": 150,
   "metadata": {},
   "outputs": [],
   "source": [
    "feats=['FG2_PCT','FG3_PCT','FT_PCT','FG2M_PER_GP','FG2A_PER_GP','FG3M_PER_GP','FG3A_PER_GP','FTM_PER_GP','FTA_PER_GP','OREB_PER_GP','DREB_PER_GP','AST_PER_GP','PF_PER_GP','STL_PER_GP','TOV_PER_GP','BLK_PER_GP']\n",
    "X=teams_master[feats]\n",
    "y=teams_master['CHAMPS']"
   ]
  },
  {
   "cell_type": "code",
   "execution_count": 151,
   "metadata": {},
   "outputs": [],
   "source": [
    "X_train,X_test,y_train,y_test=train_test_split(X,y,random_state=69,stratify=y)"
   ]
  },
  {
   "cell_type": "code",
   "execution_count": 152,
   "metadata": {},
   "outputs": [],
   "source": [
    "ss=StandardScaler()\n",
    "Z_train=ss.fit_transform(X_train)\n",
    "Z_test=ss.transform(X_test)"
   ]
  },
  {
   "cell_type": "code",
   "execution_count": 153,
   "metadata": {},
   "outputs": [],
   "source": [
    "logreg = LogisticRegression()"
   ]
  },
  {
   "cell_type": "code",
   "execution_count": 154,
   "metadata": {},
   "outputs": [
    {
     "data": {
      "text/plain": [
       "0.9657444005270093"
      ]
     },
     "execution_count": 154,
     "metadata": {},
     "output_type": "execute_result"
    }
   ],
   "source": [
    "logreg.fit(Z_train,y_train)\n",
    "logreg.score(Z_train,y_train)"
   ]
  },
  {
   "cell_type": "code",
   "execution_count": 155,
   "metadata": {},
   "outputs": [
    {
     "data": {
      "text/plain": [
       "0.9645669291338582"
      ]
     },
     "execution_count": 155,
     "metadata": {},
     "output_type": "execute_result"
    }
   ],
   "source": [
    "logreg.score(Z_test,y_test)"
   ]
  },
  {
   "cell_type": "code",
   "execution_count": 157,
   "metadata": {},
   "outputs": [],
   "source": [
    "pred=logreg.predict(Z_test)"
   ]
  },
  {
   "cell_type": "code",
   "execution_count": 158,
   "metadata": {},
   "outputs": [
    {
     "data": {
      "text/plain": [
       "array([[244,   1],\n",
       "       [  8,   1]])"
      ]
     },
     "execution_count": 158,
     "metadata": {},
     "output_type": "execute_result"
    }
   ],
   "source": [
    "cm=confusion_matrix(y_test,pred)\n",
    "cm"
   ]
  },
  {
   "cell_type": "code",
   "execution_count": 161,
   "metadata": {},
   "outputs": [],
   "source": [
    "cm_df = pd.DataFrame(cm,\n",
    "                    columns = ['pred losers', 'pred champs'],\n",
    "                    index = ['actual losers', 'actual champs'])"
   ]
  },
  {
   "cell_type": "code",
   "execution_count": 162,
   "metadata": {},
   "outputs": [
    {
     "data": {
      "text/html": [
       "<div>\n",
       "<style scoped>\n",
       "    .dataframe tbody tr th:only-of-type {\n",
       "        vertical-align: middle;\n",
       "    }\n",
       "\n",
       "    .dataframe tbody tr th {\n",
       "        vertical-align: top;\n",
       "    }\n",
       "\n",
       "    .dataframe thead th {\n",
       "        text-align: right;\n",
       "    }\n",
       "</style>\n",
       "<table border=\"1\" class=\"dataframe\">\n",
       "  <thead>\n",
       "    <tr style=\"text-align: right;\">\n",
       "      <th></th>\n",
       "      <th>pred losers</th>\n",
       "      <th>pred champs</th>\n",
       "    </tr>\n",
       "  </thead>\n",
       "  <tbody>\n",
       "    <tr>\n",
       "      <td>actual losers</td>\n",
       "      <td>244</td>\n",
       "      <td>1</td>\n",
       "    </tr>\n",
       "    <tr>\n",
       "      <td>actual champs</td>\n",
       "      <td>8</td>\n",
       "      <td>1</td>\n",
       "    </tr>\n",
       "  </tbody>\n",
       "</table>\n",
       "</div>"
      ],
      "text/plain": [
       "               pred losers  pred champs\n",
       "actual losers          244            1\n",
       "actual champs            8            1"
      ]
     },
     "execution_count": 162,
     "metadata": {},
     "output_type": "execute_result"
    }
   ],
   "source": [
    "cm_df"
   ]
  },
  {
   "cell_type": "code",
   "execution_count": 165,
   "metadata": {},
   "outputs": [
    {
     "data": {
      "text/plain": [
       "0.1111111111111111"
      ]
     },
     "execution_count": 165,
     "metadata": {},
     "output_type": "execute_result"
    }
   ],
   "source": [
    "1/9 # sensitivity"
   ]
  },
  {
   "cell_type": "code",
   "execution_count": 166,
   "metadata": {},
   "outputs": [],
   "source": [
    "pred=logreg.predict(Z_train)"
   ]
  },
  {
   "cell_type": "code",
   "execution_count": 167,
   "metadata": {},
   "outputs": [
    {
     "data": {
      "text/plain": [
       "array([[731,   1],\n",
       "       [ 25,   2]])"
      ]
     },
     "execution_count": 167,
     "metadata": {},
     "output_type": "execute_result"
    }
   ],
   "source": [
    "cm=confusion_matrix(y_train,pred)\n",
    "cm"
   ]
  },
  {
   "cell_type": "code",
   "execution_count": 168,
   "metadata": {},
   "outputs": [],
   "source": [
    "cm_df = pd.DataFrame(cm,\n",
    "                    columns = ['pred losers', 'pred champs'],\n",
    "                    index = ['actual losers', 'actual champs'])"
   ]
  },
  {
   "cell_type": "code",
   "execution_count": 169,
   "metadata": {},
   "outputs": [
    {
     "data": {
      "text/html": [
       "<div>\n",
       "<style scoped>\n",
       "    .dataframe tbody tr th:only-of-type {\n",
       "        vertical-align: middle;\n",
       "    }\n",
       "\n",
       "    .dataframe tbody tr th {\n",
       "        vertical-align: top;\n",
       "    }\n",
       "\n",
       "    .dataframe thead th {\n",
       "        text-align: right;\n",
       "    }\n",
       "</style>\n",
       "<table border=\"1\" class=\"dataframe\">\n",
       "  <thead>\n",
       "    <tr style=\"text-align: right;\">\n",
       "      <th></th>\n",
       "      <th>pred losers</th>\n",
       "      <th>pred champs</th>\n",
       "    </tr>\n",
       "  </thead>\n",
       "  <tbody>\n",
       "    <tr>\n",
       "      <td>actual losers</td>\n",
       "      <td>731</td>\n",
       "      <td>1</td>\n",
       "    </tr>\n",
       "    <tr>\n",
       "      <td>actual champs</td>\n",
       "      <td>25</td>\n",
       "      <td>2</td>\n",
       "    </tr>\n",
       "  </tbody>\n",
       "</table>\n",
       "</div>"
      ],
      "text/plain": [
       "               pred losers  pred champs\n",
       "actual losers          731            1\n",
       "actual champs           25            2"
      ]
     },
     "execution_count": 169,
     "metadata": {},
     "output_type": "execute_result"
    }
   ],
   "source": [
    "cm_df"
   ]
  },
  {
   "cell_type": "code",
   "execution_count": 170,
   "metadata": {},
   "outputs": [
    {
     "data": {
      "text/plain": [
       "0.07407407407407407"
      ]
     },
     "execution_count": 170,
     "metadata": {},
     "output_type": "execute_result"
    }
   ],
   "source": [
    "2/27 # sensitivity"
   ]
  },
  {
   "cell_type": "code",
   "execution_count": 171,
   "metadata": {},
   "outputs": [],
   "source": [
    "feats=['FG2_PCT','FG3_PCT','FT_PCT','FG2M_PER_GP','FG2A_PER_GP','FG3M_PER_GP','FG3A_PER_GP','FTM_PER_GP','FTA_PER_GP','OREB_PER_GP','DREB_PER_GP','AST_PER_GP','PF_PER_GP','STL_PER_GP','TOV_PER_GP','BLK_PER_GP']\n",
    "X=teams_master[feats]\n",
    "y=teams_master['FINALS_APPEARANCE']"
   ]
  },
  {
   "cell_type": "code",
   "execution_count": 173,
   "metadata": {},
   "outputs": [],
   "source": [
    "X_train,X_test,y_train,y_test=train_test_split(X,y,random_state=69,stratify=y)"
   ]
  },
  {
   "cell_type": "code",
   "execution_count": 174,
   "metadata": {},
   "outputs": [],
   "source": [
    "ss=StandardScaler()\n",
    "Z_train=ss.fit_transform(X_train)\n",
    "Z_test=ss.transform(X_test)"
   ]
  },
  {
   "cell_type": "code",
   "execution_count": 175,
   "metadata": {},
   "outputs": [],
   "source": [
    "logreg = LogisticRegression()"
   ]
  },
  {
   "cell_type": "code",
   "execution_count": 176,
   "metadata": {},
   "outputs": [
    {
     "data": {
      "text/plain": [
       "0.9314888010540184"
      ]
     },
     "execution_count": 176,
     "metadata": {},
     "output_type": "execute_result"
    }
   ],
   "source": [
    "logreg.fit(Z_train,y_train)\n",
    "logreg.score(Z_train,y_train)"
   ]
  },
  {
   "cell_type": "code",
   "execution_count": 177,
   "metadata": {},
   "outputs": [
    {
     "data": {
      "text/plain": [
       "0.937007874015748"
      ]
     },
     "execution_count": 177,
     "metadata": {},
     "output_type": "execute_result"
    }
   ],
   "source": [
    "logreg.score(Z_test,y_test)"
   ]
  },
  {
   "cell_type": "code",
   "execution_count": 178,
   "metadata": {},
   "outputs": [],
   "source": [
    "pred=logreg.predict(Z_test)\n",
    "cm=confusion_matrix(y_test,pred)\n",
    "cm_df = pd.DataFrame(cm,\n",
    "                    columns = ['pred losers', 'pred finals appearance'],\n",
    "                    index = ['actual losers', 'actual finals appearance'])"
   ]
  },
  {
   "cell_type": "code",
   "execution_count": 179,
   "metadata": {},
   "outputs": [
    {
     "data": {
      "text/html": [
       "<div>\n",
       "<style scoped>\n",
       "    .dataframe tbody tr th:only-of-type {\n",
       "        vertical-align: middle;\n",
       "    }\n",
       "\n",
       "    .dataframe tbody tr th {\n",
       "        vertical-align: top;\n",
       "    }\n",
       "\n",
       "    .dataframe thead th {\n",
       "        text-align: right;\n",
       "    }\n",
       "</style>\n",
       "<table border=\"1\" class=\"dataframe\">\n",
       "  <thead>\n",
       "    <tr style=\"text-align: right;\">\n",
       "      <th></th>\n",
       "      <th>pred losers</th>\n",
       "      <th>pred finals appearance</th>\n",
       "    </tr>\n",
       "  </thead>\n",
       "  <tbody>\n",
       "    <tr>\n",
       "      <td>actual losers</td>\n",
       "      <td>236</td>\n",
       "      <td>0</td>\n",
       "    </tr>\n",
       "    <tr>\n",
       "      <td>actual finals appearance</td>\n",
       "      <td>16</td>\n",
       "      <td>2</td>\n",
       "    </tr>\n",
       "  </tbody>\n",
       "</table>\n",
       "</div>"
      ],
      "text/plain": [
       "                          pred losers  pred finals appearance\n",
       "actual losers                     236                       0\n",
       "actual finals appearance           16                       2"
      ]
     },
     "execution_count": 179,
     "metadata": {},
     "output_type": "execute_result"
    }
   ],
   "source": [
    "cm_df"
   ]
  },
  {
   "cell_type": "code",
   "execution_count": null,
   "metadata": {},
   "outputs": [],
   "source": []
  }
 ],
 "metadata": {
  "kernelspec": {
   "display_name": "Python 3",
   "language": "python",
   "name": "python3"
  },
  "language_info": {
   "codemirror_mode": {
    "name": "ipython",
    "version": 3
   },
   "file_extension": ".py",
   "mimetype": "text/x-python",
   "name": "python",
   "nbconvert_exporter": "python",
   "pygments_lexer": "ipython3",
   "version": "3.7.4"
  }
 },
 "nbformat": 4,
 "nbformat_minor": 2
}
